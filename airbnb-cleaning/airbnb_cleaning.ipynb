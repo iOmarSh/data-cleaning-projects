{
 "cells": [
  {
   "cell_type": "code",
   "outputs": [],
   "source": [
    "import pandas as pd"
   ],
   "metadata": {
    "collapsed": false,
    "ExecuteTime": {
     "end_time": "2025-03-28T08:05:12.627370Z",
     "start_time": "2025-03-28T08:05:12.623539Z"
    }
   },
   "id": "initial_id",
   "execution_count": 5
  },
  {
   "cell_type": "code",
   "outputs": [
    {
     "name": "stdout",
     "output_type": "stream",
     "text": [
      "True\n",
      "C:\\Users\\omarg\\PycharmProjects\\pythonProject5\\airbnb-cleaning\n"
     ]
    }
   ],
   "source": [
    "import os\n",
    "print(os.path.exists(\"data/airbnb_raw.csv\"))\n",
    "print(os.getcwd())"
   ],
   "metadata": {
    "collapsed": false,
    "ExecuteTime": {
     "end_time": "2025-03-28T08:05:13.154731Z",
     "start_time": "2025-03-28T08:05:13.149634Z"
    }
   },
   "id": "40fba774f3c5d2f8",
   "execution_count": 6
  },
  {
   "cell_type": "code",
   "outputs": [
    {
     "name": "stderr",
     "output_type": "stream",
     "text": [
      "C:\\Users\\omarg\\AppData\\Local\\Temp\\ipykernel_25248\\2986917449.py:1: DtypeWarning: Columns (25) have mixed types. Specify dtype option on import or set low_memory=False.\n",
      "  data = pd.read_csv(os.path.join(\"data\", \"airbnb_raw.csv\"))  # Relative path\n"
     ]
    }
   ],
   "source": [
    "data = pd.read_csv(os.path.join(\"data\", \"airbnb_raw.csv\"))  # Relative path"
   ],
   "metadata": {
    "collapsed": false,
    "ExecuteTime": {
     "end_time": "2025-03-28T08:05:14.175860Z",
     "start_time": "2025-03-28T08:05:13.213224Z"
    }
   },
   "id": "21ffb5b6b6cb637e",
   "execution_count": 7
  },
  {
   "cell_type": "code",
   "outputs": [
    {
     "data": {
      "text/plain": "        id                                              NAME      host id  \\\n0  1001254                Clean & quiet apt home by the park  80014485718   \n1  1002102                             Skylit Midtown Castle  52335172823   \n2  1002403               THE VILLAGE OF HARLEM....NEW YORK !  78829239556   \n3  1002755                                               NaN  85098326012   \n4  1003689  Entire Apt: Spacious Studio/Loft by central park  92037596077   \n\n  host_identity_verified host name neighbourhood group neighbourhood  \\\n0            unconfirmed  Madaline            Brooklyn    Kensington   \n1               verified     Jenna           Manhattan       Midtown   \n2                    NaN     Elise           Manhattan        Harlem   \n3            unconfirmed     Garry            Brooklyn  Clinton Hill   \n4               verified    Lyndon           Manhattan   East Harlem   \n\n        lat      long        country  ... service fee minimum nights  \\\n0  40.64749 -73.97237  United States  ...       $193            10.0   \n1  40.75362 -73.98377  United States  ...        $28            30.0   \n2  40.80902 -73.94190  United States  ...       $124             3.0   \n3  40.68514 -73.95976  United States  ...        $74            30.0   \n4  40.79851 -73.94399  United States  ...        $41            10.0   \n\n  number of reviews last review  reviews per month review rate number  \\\n0               9.0  10/19/2021               0.21                4.0   \n1              45.0   5/21/2022               0.38                4.0   \n2               0.0         NaN                NaN                5.0   \n3             270.0    7/5/2019               4.64                4.0   \n4               9.0  11/19/2018               0.10                3.0   \n\n  calculated host listings count  availability 365  \\\n0                            6.0             286.0   \n1                            2.0             228.0   \n2                            1.0             352.0   \n3                            1.0             322.0   \n4                            1.0             289.0   \n\n                                         house_rules license  \n0  Clean up and treat the home the way you'd like...     NaN  \n1  Pet friendly but please confirm with me if the...     NaN  \n2  I encourage you to use my kitchen, cooking and...     NaN  \n3                                                NaN     NaN  \n4  Please no smoking in the house, porch or on th...     NaN  \n\n[5 rows x 26 columns]",
      "text/html": "<div>\n<style scoped>\n    .dataframe tbody tr th:only-of-type {\n        vertical-align: middle;\n    }\n\n    .dataframe tbody tr th {\n        vertical-align: top;\n    }\n\n    .dataframe thead th {\n        text-align: right;\n    }\n</style>\n<table border=\"1\" class=\"dataframe\">\n  <thead>\n    <tr style=\"text-align: right;\">\n      <th></th>\n      <th>id</th>\n      <th>NAME</th>\n      <th>host id</th>\n      <th>host_identity_verified</th>\n      <th>host name</th>\n      <th>neighbourhood group</th>\n      <th>neighbourhood</th>\n      <th>lat</th>\n      <th>long</th>\n      <th>country</th>\n      <th>...</th>\n      <th>service fee</th>\n      <th>minimum nights</th>\n      <th>number of reviews</th>\n      <th>last review</th>\n      <th>reviews per month</th>\n      <th>review rate number</th>\n      <th>calculated host listings count</th>\n      <th>availability 365</th>\n      <th>house_rules</th>\n      <th>license</th>\n    </tr>\n  </thead>\n  <tbody>\n    <tr>\n      <th>0</th>\n      <td>1001254</td>\n      <td>Clean &amp; quiet apt home by the park</td>\n      <td>80014485718</td>\n      <td>unconfirmed</td>\n      <td>Madaline</td>\n      <td>Brooklyn</td>\n      <td>Kensington</td>\n      <td>40.64749</td>\n      <td>-73.97237</td>\n      <td>United States</td>\n      <td>...</td>\n      <td>$193</td>\n      <td>10.0</td>\n      <td>9.0</td>\n      <td>10/19/2021</td>\n      <td>0.21</td>\n      <td>4.0</td>\n      <td>6.0</td>\n      <td>286.0</td>\n      <td>Clean up and treat the home the way you'd like...</td>\n      <td>NaN</td>\n    </tr>\n    <tr>\n      <th>1</th>\n      <td>1002102</td>\n      <td>Skylit Midtown Castle</td>\n      <td>52335172823</td>\n      <td>verified</td>\n      <td>Jenna</td>\n      <td>Manhattan</td>\n      <td>Midtown</td>\n      <td>40.75362</td>\n      <td>-73.98377</td>\n      <td>United States</td>\n      <td>...</td>\n      <td>$28</td>\n      <td>30.0</td>\n      <td>45.0</td>\n      <td>5/21/2022</td>\n      <td>0.38</td>\n      <td>4.0</td>\n      <td>2.0</td>\n      <td>228.0</td>\n      <td>Pet friendly but please confirm with me if the...</td>\n      <td>NaN</td>\n    </tr>\n    <tr>\n      <th>2</th>\n      <td>1002403</td>\n      <td>THE VILLAGE OF HARLEM....NEW YORK !</td>\n      <td>78829239556</td>\n      <td>NaN</td>\n      <td>Elise</td>\n      <td>Manhattan</td>\n      <td>Harlem</td>\n      <td>40.80902</td>\n      <td>-73.94190</td>\n      <td>United States</td>\n      <td>...</td>\n      <td>$124</td>\n      <td>3.0</td>\n      <td>0.0</td>\n      <td>NaN</td>\n      <td>NaN</td>\n      <td>5.0</td>\n      <td>1.0</td>\n      <td>352.0</td>\n      <td>I encourage you to use my kitchen, cooking and...</td>\n      <td>NaN</td>\n    </tr>\n    <tr>\n      <th>3</th>\n      <td>1002755</td>\n      <td>NaN</td>\n      <td>85098326012</td>\n      <td>unconfirmed</td>\n      <td>Garry</td>\n      <td>Brooklyn</td>\n      <td>Clinton Hill</td>\n      <td>40.68514</td>\n      <td>-73.95976</td>\n      <td>United States</td>\n      <td>...</td>\n      <td>$74</td>\n      <td>30.0</td>\n      <td>270.0</td>\n      <td>7/5/2019</td>\n      <td>4.64</td>\n      <td>4.0</td>\n      <td>1.0</td>\n      <td>322.0</td>\n      <td>NaN</td>\n      <td>NaN</td>\n    </tr>\n    <tr>\n      <th>4</th>\n      <td>1003689</td>\n      <td>Entire Apt: Spacious Studio/Loft by central park</td>\n      <td>92037596077</td>\n      <td>verified</td>\n      <td>Lyndon</td>\n      <td>Manhattan</td>\n      <td>East Harlem</td>\n      <td>40.79851</td>\n      <td>-73.94399</td>\n      <td>United States</td>\n      <td>...</td>\n      <td>$41</td>\n      <td>10.0</td>\n      <td>9.0</td>\n      <td>11/19/2018</td>\n      <td>0.10</td>\n      <td>3.0</td>\n      <td>1.0</td>\n      <td>289.0</td>\n      <td>Please no smoking in the house, porch or on th...</td>\n      <td>NaN</td>\n    </tr>\n  </tbody>\n</table>\n<p>5 rows × 26 columns</p>\n</div>"
     },
     "execution_count": 8,
     "metadata": {},
     "output_type": "execute_result"
    }
   ],
   "source": [
    "data.head()"
   ],
   "metadata": {
    "collapsed": false,
    "ExecuteTime": {
     "end_time": "2025-03-28T08:05:14.207057Z",
     "start_time": "2025-03-28T08:05:14.178324Z"
    }
   },
   "id": "73c4a124a9af0e0d",
   "execution_count": 8
  },
  {
   "cell_type": "code",
   "outputs": [
    {
     "data": {
      "text/plain": "Index(['id', 'NAME', 'host id', 'host_identity_verified', 'host name',\n       'neighbourhood group', 'neighbourhood', 'lat', 'long', 'country',\n       'country code', 'instant_bookable', 'cancellation_policy', 'room type',\n       'Construction year', 'price', 'service fee', 'minimum nights',\n       'number of reviews', 'last review', 'reviews per month',\n       'review rate number', 'calculated host listings count',\n       'availability 365', 'house_rules', 'license'],\n      dtype='object')"
     },
     "execution_count": 9,
     "metadata": {},
     "output_type": "execute_result"
    }
   ],
   "source": [
    "data.columns"
   ],
   "metadata": {
    "collapsed": false,
    "ExecuteTime": {
     "end_time": "2025-03-28T08:05:14.214276Z",
     "start_time": "2025-03-28T08:05:14.208057Z"
    }
   },
   "id": "c887a6c1fc53f875",
   "execution_count": 9
  },
  {
   "cell_type": "code",
   "outputs": [
    {
     "name": "stdout",
     "output_type": "stream",
     "text": [
      "<class 'pandas.core.frame.DataFrame'>\n",
      "RangeIndex: 102599 entries, 0 to 102598\n",
      "Data columns (total 26 columns):\n",
      " #   Column                          Non-Null Count   Dtype  \n",
      "---  ------                          --------------   -----  \n",
      " 0   id                              102599 non-null  int64  \n",
      " 1   NAME                            102349 non-null  object \n",
      " 2   host id                         102599 non-null  int64  \n",
      " 3   host_identity_verified          102310 non-null  object \n",
      " 4   host name                       102193 non-null  object \n",
      " 5   neighbourhood group             102570 non-null  object \n",
      " 6   neighbourhood                   102583 non-null  object \n",
      " 7   lat                             102591 non-null  float64\n",
      " 8   long                            102591 non-null  float64\n",
      " 9   country                         102067 non-null  object \n",
      " 10  country code                    102468 non-null  object \n",
      " 11  instant_bookable                102494 non-null  object \n",
      " 12  cancellation_policy             102523 non-null  object \n",
      " 13  room type                       102599 non-null  object \n",
      " 14  Construction year               102385 non-null  float64\n",
      " 15  price                           102352 non-null  object \n",
      " 16  service fee                     102326 non-null  object \n",
      " 17  minimum nights                  102190 non-null  float64\n",
      " 18  number of reviews               102416 non-null  float64\n",
      " 19  last review                     86706 non-null   object \n",
      " 20  reviews per month               86720 non-null   float64\n",
      " 21  review rate number              102273 non-null  float64\n",
      " 22  calculated host listings count  102280 non-null  float64\n",
      " 23  availability 365                102151 non-null  float64\n",
      " 24  house_rules                     50468 non-null   object \n",
      " 25  license                         2 non-null       object \n",
      "dtypes: float64(9), int64(2), object(15)\n",
      "memory usage: 20.4+ MB\n"
     ]
    }
   ],
   "source": [
    "data.info()"
   ],
   "metadata": {
    "collapsed": false,
    "ExecuteTime": {
     "end_time": "2025-03-28T08:05:14.336666Z",
     "start_time": "2025-03-28T08:05:14.216273Z"
    }
   },
   "id": "e9d7182615843a9f",
   "execution_count": 10
  },
  {
   "cell_type": "code",
   "outputs": [
    {
     "data": {
      "text/plain": "0         NaN\n1         NaN\n2         NaN\n3         NaN\n4         NaN\n         ... \n102594    NaN\n102595    NaN\n102596    NaN\n102597    NaN\n102598    NaN\nName: license, Length: 102599, dtype: object"
     },
     "execution_count": 11,
     "metadata": {},
     "output_type": "execute_result"
    }
   ],
   "source": [
    "data[\"license\"]"
   ],
   "metadata": {
    "collapsed": false,
    "ExecuteTime": {
     "end_time": "2025-03-28T08:05:14.346118Z",
     "start_time": "2025-03-28T08:05:14.337667Z"
    }
   },
   "id": "ac034ebe740d34ef",
   "execution_count": 11
  },
  {
   "cell_type": "code",
   "outputs": [
    {
     "data": {
      "text/plain": "Index(['id', 'NAME', 'host id', 'host_identity_verified', 'host name',\n       'neighbourhood group', 'neighbourhood', 'lat', 'long', 'country',\n       'country code', 'instant_bookable', 'cancellation_policy', 'room type',\n       'Construction year', 'price', 'service fee', 'minimum nights',\n       'number of reviews', 'last review', 'reviews per month',\n       'review rate number', 'calculated host listings count',\n       'availability 365', 'house_rules', 'license'],\n      dtype='object')"
     },
     "execution_count": 12,
     "metadata": {},
     "output_type": "execute_result"
    }
   ],
   "source": [
    "data.columns"
   ],
   "metadata": {
    "collapsed": false,
    "ExecuteTime": {
     "end_time": "2025-03-28T08:05:14.354498Z",
     "start_time": "2025-03-28T08:05:14.347119Z"
    }
   },
   "id": "b4136f025ed45878",
   "execution_count": 12
  },
  {
   "cell_type": "code",
   "outputs": [],
   "source": [
    "columns_to_drop = ['reviews per month',\n",
    "       'review rate number', 'calculated host listings count',\n",
    "       'availability 365', 'house_rules', 'license','id']\n",
    "\n",
    "columns_to_keep = ['NAME', 'host id', 'host_identity_verified', 'host name',\n",
    "       'neighbourhood group', 'neighbourhood', 'lat', 'long', 'country',\n",
    "       'country code', 'instant_bookable', 'cancellation_policy', 'room type',\n",
    "       'Construction year', 'price', 'service fee', 'minimum nights',\n",
    "       'number of reviews', 'last review']"
   ],
   "metadata": {
    "collapsed": false,
    "ExecuteTime": {
     "end_time": "2025-03-28T08:05:14.361543Z",
     "start_time": "2025-03-28T08:05:14.356497Z"
    }
   },
   "id": "f0d3b5537a5cd630",
   "execution_count": 13
  },
  {
   "cell_type": "code",
   "outputs": [
    {
     "data": {
      "text/plain": "7"
     },
     "execution_count": 14,
     "metadata": {},
     "output_type": "execute_result"
    }
   ],
   "source": [
    "len(columns_to_keep)\n",
    "len(columns_to_drop)"
   ],
   "metadata": {
    "collapsed": false,
    "ExecuteTime": {
     "end_time": "2025-03-28T08:05:14.370075Z",
     "start_time": "2025-03-28T08:05:14.362544Z"
    }
   },
   "id": "9e789a6ed91958d2",
   "execution_count": 14
  },
  {
   "cell_type": "markdown",
   "source": [
    "# 1st Method, Filtering Data"
   ],
   "metadata": {
    "collapsed": false
   },
   "id": "5f1e0a9d87cec355"
  },
  {
   "cell_type": "code",
   "outputs": [],
   "source": [
    "df = data[columns_to_keep]"
   ],
   "metadata": {
    "collapsed": false,
    "ExecuteTime": {
     "end_time": "2025-03-28T08:05:14.395644Z",
     "start_time": "2025-03-28T08:05:14.372498Z"
    }
   },
   "id": "a29ded883f998d28",
   "execution_count": 15
  },
  {
   "cell_type": "code",
   "outputs": [
    {
     "data": {
      "text/plain": "                                                    NAME      host id  \\\n0                     Clean & quiet apt home by the park  80014485718   \n1                                  Skylit Midtown Castle  52335172823   \n2                    THE VILLAGE OF HARLEM....NEW YORK !  78829239556   \n3                                                    NaN  85098326012   \n4       Entire Apt: Spacious Studio/Loft by central park  92037596077   \n...                                                  ...          ...   \n102594                        Spare room in Williamsburg  12312296767   \n102595                     Best Location near Columbia U  77864383453   \n102596                    Comfy, bright room in Brooklyn  69050334417   \n102597                  Big Studio-One Stop from Midtown  11160591270   \n102598                              585 sf Luxury Studio  68170633372   \n\n       host_identity_verified    host name neighbourhood group  \\\n0                 unconfirmed     Madaline            Brooklyn   \n1                    verified        Jenna           Manhattan   \n2                         NaN        Elise           Manhattan   \n3                 unconfirmed        Garry            Brooklyn   \n4                    verified       Lyndon           Manhattan   \n...                       ...          ...                 ...   \n102594               verified         Krik            Brooklyn   \n102595            unconfirmed        Mifan           Manhattan   \n102596            unconfirmed        Megan            Brooklyn   \n102597            unconfirmed  Christopher              Queens   \n102598            unconfirmed      Rebecca           Manhattan   \n\n              neighbourhood       lat      long        country country code  \\\n0                Kensington  40.64749 -73.97237  United States           US   \n1                   Midtown  40.75362 -73.98377  United States           US   \n2                    Harlem  40.80902 -73.94190  United States           US   \n3              Clinton Hill  40.68514 -73.95976  United States           US   \n4               East Harlem  40.79851 -73.94399  United States           US   \n...                     ...       ...       ...            ...          ...   \n102594         Williamsburg  40.70862 -73.94651  United States           US   \n102595  Morningside Heights  40.80460 -73.96545  United States           US   \n102596           Park Slope  40.67505 -73.98045  United States           US   \n102597     Long Island City  40.74989 -73.93777  United States           US   \n102598      Upper West Side  40.76807 -73.98342  United States           US   \n\n       instant_bookable cancellation_policy        room type  \\\n0                 False              strict     Private room   \n1                 False            moderate  Entire home/apt   \n2                  True            flexible     Private room   \n3                  True            moderate  Entire home/apt   \n4                 False            moderate  Entire home/apt   \n...                 ...                 ...              ...   \n102594            False            flexible     Private room   \n102595             True            moderate     Private room   \n102596             True            moderate     Private room   \n102597             True              strict  Entire home/apt   \n102598            False            flexible  Entire home/apt   \n\n        Construction year    price service fee  minimum nights  \\\n0                  2020.0    $966        $193             10.0   \n1                  2007.0    $142         $28             30.0   \n2                  2005.0    $620        $124              3.0   \n3                  2005.0    $368         $74             30.0   \n4                  2009.0    $204         $41             10.0   \n...                   ...      ...         ...             ...   \n102594             2003.0    $844        $169              1.0   \n102595             2016.0    $837        $167              1.0   \n102596             2009.0    $988        $198              3.0   \n102597             2015.0    $546        $109              2.0   \n102598             2010.0  $1,032        $206              1.0   \n\n        number of reviews last review  \n0                     9.0  10/19/2021  \n1                    45.0   5/21/2022  \n2                     0.0         NaN  \n3                   270.0    7/5/2019  \n4                     9.0  11/19/2018  \n...                   ...         ...  \n102594                0.0         NaN  \n102595                1.0    7/6/2015  \n102596                0.0         NaN  \n102597                5.0  10/11/2015  \n102598                0.0         NaN  \n\n[102599 rows x 19 columns]",
      "text/html": "<div>\n<style scoped>\n    .dataframe tbody tr th:only-of-type {\n        vertical-align: middle;\n    }\n\n    .dataframe tbody tr th {\n        vertical-align: top;\n    }\n\n    .dataframe thead th {\n        text-align: right;\n    }\n</style>\n<table border=\"1\" class=\"dataframe\">\n  <thead>\n    <tr style=\"text-align: right;\">\n      <th></th>\n      <th>NAME</th>\n      <th>host id</th>\n      <th>host_identity_verified</th>\n      <th>host name</th>\n      <th>neighbourhood group</th>\n      <th>neighbourhood</th>\n      <th>lat</th>\n      <th>long</th>\n      <th>country</th>\n      <th>country code</th>\n      <th>instant_bookable</th>\n      <th>cancellation_policy</th>\n      <th>room type</th>\n      <th>Construction year</th>\n      <th>price</th>\n      <th>service fee</th>\n      <th>minimum nights</th>\n      <th>number of reviews</th>\n      <th>last review</th>\n    </tr>\n  </thead>\n  <tbody>\n    <tr>\n      <th>0</th>\n      <td>Clean &amp; quiet apt home by the park</td>\n      <td>80014485718</td>\n      <td>unconfirmed</td>\n      <td>Madaline</td>\n      <td>Brooklyn</td>\n      <td>Kensington</td>\n      <td>40.64749</td>\n      <td>-73.97237</td>\n      <td>United States</td>\n      <td>US</td>\n      <td>False</td>\n      <td>strict</td>\n      <td>Private room</td>\n      <td>2020.0</td>\n      <td>$966</td>\n      <td>$193</td>\n      <td>10.0</td>\n      <td>9.0</td>\n      <td>10/19/2021</td>\n    </tr>\n    <tr>\n      <th>1</th>\n      <td>Skylit Midtown Castle</td>\n      <td>52335172823</td>\n      <td>verified</td>\n      <td>Jenna</td>\n      <td>Manhattan</td>\n      <td>Midtown</td>\n      <td>40.75362</td>\n      <td>-73.98377</td>\n      <td>United States</td>\n      <td>US</td>\n      <td>False</td>\n      <td>moderate</td>\n      <td>Entire home/apt</td>\n      <td>2007.0</td>\n      <td>$142</td>\n      <td>$28</td>\n      <td>30.0</td>\n      <td>45.0</td>\n      <td>5/21/2022</td>\n    </tr>\n    <tr>\n      <th>2</th>\n      <td>THE VILLAGE OF HARLEM....NEW YORK !</td>\n      <td>78829239556</td>\n      <td>NaN</td>\n      <td>Elise</td>\n      <td>Manhattan</td>\n      <td>Harlem</td>\n      <td>40.80902</td>\n      <td>-73.94190</td>\n      <td>United States</td>\n      <td>US</td>\n      <td>True</td>\n      <td>flexible</td>\n      <td>Private room</td>\n      <td>2005.0</td>\n      <td>$620</td>\n      <td>$124</td>\n      <td>3.0</td>\n      <td>0.0</td>\n      <td>NaN</td>\n    </tr>\n    <tr>\n      <th>3</th>\n      <td>NaN</td>\n      <td>85098326012</td>\n      <td>unconfirmed</td>\n      <td>Garry</td>\n      <td>Brooklyn</td>\n      <td>Clinton Hill</td>\n      <td>40.68514</td>\n      <td>-73.95976</td>\n      <td>United States</td>\n      <td>US</td>\n      <td>True</td>\n      <td>moderate</td>\n      <td>Entire home/apt</td>\n      <td>2005.0</td>\n      <td>$368</td>\n      <td>$74</td>\n      <td>30.0</td>\n      <td>270.0</td>\n      <td>7/5/2019</td>\n    </tr>\n    <tr>\n      <th>4</th>\n      <td>Entire Apt: Spacious Studio/Loft by central park</td>\n      <td>92037596077</td>\n      <td>verified</td>\n      <td>Lyndon</td>\n      <td>Manhattan</td>\n      <td>East Harlem</td>\n      <td>40.79851</td>\n      <td>-73.94399</td>\n      <td>United States</td>\n      <td>US</td>\n      <td>False</td>\n      <td>moderate</td>\n      <td>Entire home/apt</td>\n      <td>2009.0</td>\n      <td>$204</td>\n      <td>$41</td>\n      <td>10.0</td>\n      <td>9.0</td>\n      <td>11/19/2018</td>\n    </tr>\n    <tr>\n      <th>...</th>\n      <td>...</td>\n      <td>...</td>\n      <td>...</td>\n      <td>...</td>\n      <td>...</td>\n      <td>...</td>\n      <td>...</td>\n      <td>...</td>\n      <td>...</td>\n      <td>...</td>\n      <td>...</td>\n      <td>...</td>\n      <td>...</td>\n      <td>...</td>\n      <td>...</td>\n      <td>...</td>\n      <td>...</td>\n      <td>...</td>\n      <td>...</td>\n    </tr>\n    <tr>\n      <th>102594</th>\n      <td>Spare room in Williamsburg</td>\n      <td>12312296767</td>\n      <td>verified</td>\n      <td>Krik</td>\n      <td>Brooklyn</td>\n      <td>Williamsburg</td>\n      <td>40.70862</td>\n      <td>-73.94651</td>\n      <td>United States</td>\n      <td>US</td>\n      <td>False</td>\n      <td>flexible</td>\n      <td>Private room</td>\n      <td>2003.0</td>\n      <td>$844</td>\n      <td>$169</td>\n      <td>1.0</td>\n      <td>0.0</td>\n      <td>NaN</td>\n    </tr>\n    <tr>\n      <th>102595</th>\n      <td>Best Location near Columbia U</td>\n      <td>77864383453</td>\n      <td>unconfirmed</td>\n      <td>Mifan</td>\n      <td>Manhattan</td>\n      <td>Morningside Heights</td>\n      <td>40.80460</td>\n      <td>-73.96545</td>\n      <td>United States</td>\n      <td>US</td>\n      <td>True</td>\n      <td>moderate</td>\n      <td>Private room</td>\n      <td>2016.0</td>\n      <td>$837</td>\n      <td>$167</td>\n      <td>1.0</td>\n      <td>1.0</td>\n      <td>7/6/2015</td>\n    </tr>\n    <tr>\n      <th>102596</th>\n      <td>Comfy, bright room in Brooklyn</td>\n      <td>69050334417</td>\n      <td>unconfirmed</td>\n      <td>Megan</td>\n      <td>Brooklyn</td>\n      <td>Park Slope</td>\n      <td>40.67505</td>\n      <td>-73.98045</td>\n      <td>United States</td>\n      <td>US</td>\n      <td>True</td>\n      <td>moderate</td>\n      <td>Private room</td>\n      <td>2009.0</td>\n      <td>$988</td>\n      <td>$198</td>\n      <td>3.0</td>\n      <td>0.0</td>\n      <td>NaN</td>\n    </tr>\n    <tr>\n      <th>102597</th>\n      <td>Big Studio-One Stop from Midtown</td>\n      <td>11160591270</td>\n      <td>unconfirmed</td>\n      <td>Christopher</td>\n      <td>Queens</td>\n      <td>Long Island City</td>\n      <td>40.74989</td>\n      <td>-73.93777</td>\n      <td>United States</td>\n      <td>US</td>\n      <td>True</td>\n      <td>strict</td>\n      <td>Entire home/apt</td>\n      <td>2015.0</td>\n      <td>$546</td>\n      <td>$109</td>\n      <td>2.0</td>\n      <td>5.0</td>\n      <td>10/11/2015</td>\n    </tr>\n    <tr>\n      <th>102598</th>\n      <td>585 sf Luxury Studio</td>\n      <td>68170633372</td>\n      <td>unconfirmed</td>\n      <td>Rebecca</td>\n      <td>Manhattan</td>\n      <td>Upper West Side</td>\n      <td>40.76807</td>\n      <td>-73.98342</td>\n      <td>United States</td>\n      <td>US</td>\n      <td>False</td>\n      <td>flexible</td>\n      <td>Entire home/apt</td>\n      <td>2010.0</td>\n      <td>$1,032</td>\n      <td>$206</td>\n      <td>1.0</td>\n      <td>0.0</td>\n      <td>NaN</td>\n    </tr>\n  </tbody>\n</table>\n<p>102599 rows × 19 columns</p>\n</div>"
     },
     "execution_count": 16,
     "metadata": {},
     "output_type": "execute_result"
    }
   ],
   "source": [
    "df"
   ],
   "metadata": {
    "collapsed": false,
    "ExecuteTime": {
     "end_time": "2025-03-28T08:05:14.425300Z",
     "start_time": "2025-03-28T08:05:14.399039Z"
    }
   },
   "id": "dd2c3117c2a688e7",
   "execution_count": 16
  },
  {
   "cell_type": "markdown",
   "source": [
    "# 2nd Method, Dropping Columns"
   ],
   "metadata": {
    "collapsed": false
   },
   "id": "1f52c2306366ed12"
  },
  {
   "cell_type": "code",
   "outputs": [
    {
     "data": {
      "text/plain": "Index(['id', 'NAME', 'host id', 'host_identity_verified', 'host name',\n       'neighbourhood group', 'neighbourhood', 'lat', 'long', 'country',\n       'country code', 'instant_bookable', 'cancellation_policy', 'room type',\n       'Construction year', 'price', 'service fee', 'minimum nights',\n       'number of reviews', 'last review', 'reviews per month',\n       'review rate number', 'calculated host listings count',\n       'availability 365', 'house_rules', 'license'],\n      dtype='object')"
     },
     "execution_count": 17,
     "metadata": {},
     "output_type": "execute_result"
    }
   ],
   "source": [
    "data.columns"
   ],
   "metadata": {
    "collapsed": false,
    "ExecuteTime": {
     "end_time": "2025-03-28T08:05:14.438429Z",
     "start_time": "2025-03-28T08:05:14.431773Z"
    }
   },
   "id": "eedbab84be139fde",
   "execution_count": 17
  },
  {
   "cell_type": "code",
   "outputs": [
    {
     "data": {
      "text/plain": "             id                                              NAME  \\\n0       1001254                Clean & quiet apt home by the park   \n1       1002102                             Skylit Midtown Castle   \n2       1002403               THE VILLAGE OF HARLEM....NEW YORK !   \n3       1002755                                               NaN   \n4       1003689  Entire Apt: Spacious Studio/Loft by central park   \n...         ...                                               ...   \n102594  6092437                        Spare room in Williamsburg   \n102595  6092990                     Best Location near Columbia U   \n102596  6093542                    Comfy, bright room in Brooklyn   \n102597  6094094                  Big Studio-One Stop from Midtown   \n102598  6094647                              585 sf Luxury Studio   \n\n            host id host_identity_verified    host name neighbourhood group  \\\n0       80014485718            unconfirmed     Madaline            Brooklyn   \n1       52335172823               verified        Jenna           Manhattan   \n2       78829239556                    NaN        Elise           Manhattan   \n3       85098326012            unconfirmed        Garry            Brooklyn   \n4       92037596077               verified       Lyndon           Manhattan   \n...             ...                    ...          ...                 ...   \n102594  12312296767               verified         Krik            Brooklyn   \n102595  77864383453            unconfirmed        Mifan           Manhattan   \n102596  69050334417            unconfirmed        Megan            Brooklyn   \n102597  11160591270            unconfirmed  Christopher              Queens   \n102598  68170633372            unconfirmed      Rebecca           Manhattan   \n\n              neighbourhood       lat      long        country  ...    price  \\\n0                Kensington  40.64749 -73.97237  United States  ...    $966    \n1                   Midtown  40.75362 -73.98377  United States  ...    $142    \n2                    Harlem  40.80902 -73.94190  United States  ...    $620    \n3              Clinton Hill  40.68514 -73.95976  United States  ...    $368    \n4               East Harlem  40.79851 -73.94399  United States  ...    $204    \n...                     ...       ...       ...            ...  ...      ...   \n102594         Williamsburg  40.70862 -73.94651  United States  ...    $844    \n102595  Morningside Heights  40.80460 -73.96545  United States  ...    $837    \n102596           Park Slope  40.67505 -73.98045  United States  ...    $988    \n102597     Long Island City  40.74989 -73.93777  United States  ...    $546    \n102598      Upper West Side  40.76807 -73.98342  United States  ...  $1,032    \n\n       service fee minimum nights number of reviews  last review  \\\n0            $193            10.0               9.0   10/19/2021   \n1             $28            30.0              45.0    5/21/2022   \n2            $124             3.0               0.0          NaN   \n3             $74            30.0             270.0     7/5/2019   \n4             $41            10.0               9.0   11/19/2018   \n...            ...            ...               ...          ...   \n102594       $169             1.0               0.0          NaN   \n102595       $167             1.0               1.0     7/6/2015   \n102596       $198             3.0               0.0          NaN   \n102597       $109             2.0               5.0   10/11/2015   \n102598       $206             1.0               0.0          NaN   \n\n       reviews per month review rate number  calculated host listings count  \\\n0                   0.21                4.0                             6.0   \n1                   0.38                4.0                             2.0   \n2                    NaN                5.0                             1.0   \n3                   4.64                4.0                             1.0   \n4                   0.10                3.0                             1.0   \n...                  ...                ...                             ...   \n102594               NaN                3.0                             1.0   \n102595              0.02                2.0                             2.0   \n102596               NaN                5.0                             1.0   \n102597              0.10                3.0                             1.0   \n102598               NaN                3.0                             1.0   \n\n        availability 365                                        house_rules  \n0                  286.0  Clean up and treat the home the way you'd like...  \n1                  228.0  Pet friendly but please confirm with me if the...  \n2                  352.0  I encourage you to use my kitchen, cooking and...  \n3                  322.0                                                NaN  \n4                  289.0  Please no smoking in the house, porch or on th...  \n...                  ...                                                ...  \n102594             227.0  No Smoking No Parties or Events of any kind Pl...  \n102595             395.0  House rules: Guests agree to the following ter...  \n102596             342.0                                                NaN  \n102597             386.0                                                NaN  \n102598              69.0                                                NaN  \n\n[102599 rows x 25 columns]",
      "text/html": "<div>\n<style scoped>\n    .dataframe tbody tr th:only-of-type {\n        vertical-align: middle;\n    }\n\n    .dataframe tbody tr th {\n        vertical-align: top;\n    }\n\n    .dataframe thead th {\n        text-align: right;\n    }\n</style>\n<table border=\"1\" class=\"dataframe\">\n  <thead>\n    <tr style=\"text-align: right;\">\n      <th></th>\n      <th>id</th>\n      <th>NAME</th>\n      <th>host id</th>\n      <th>host_identity_verified</th>\n      <th>host name</th>\n      <th>neighbourhood group</th>\n      <th>neighbourhood</th>\n      <th>lat</th>\n      <th>long</th>\n      <th>country</th>\n      <th>...</th>\n      <th>price</th>\n      <th>service fee</th>\n      <th>minimum nights</th>\n      <th>number of reviews</th>\n      <th>last review</th>\n      <th>reviews per month</th>\n      <th>review rate number</th>\n      <th>calculated host listings count</th>\n      <th>availability 365</th>\n      <th>house_rules</th>\n    </tr>\n  </thead>\n  <tbody>\n    <tr>\n      <th>0</th>\n      <td>1001254</td>\n      <td>Clean &amp; quiet apt home by the park</td>\n      <td>80014485718</td>\n      <td>unconfirmed</td>\n      <td>Madaline</td>\n      <td>Brooklyn</td>\n      <td>Kensington</td>\n      <td>40.64749</td>\n      <td>-73.97237</td>\n      <td>United States</td>\n      <td>...</td>\n      <td>$966</td>\n      <td>$193</td>\n      <td>10.0</td>\n      <td>9.0</td>\n      <td>10/19/2021</td>\n      <td>0.21</td>\n      <td>4.0</td>\n      <td>6.0</td>\n      <td>286.0</td>\n      <td>Clean up and treat the home the way you'd like...</td>\n    </tr>\n    <tr>\n      <th>1</th>\n      <td>1002102</td>\n      <td>Skylit Midtown Castle</td>\n      <td>52335172823</td>\n      <td>verified</td>\n      <td>Jenna</td>\n      <td>Manhattan</td>\n      <td>Midtown</td>\n      <td>40.75362</td>\n      <td>-73.98377</td>\n      <td>United States</td>\n      <td>...</td>\n      <td>$142</td>\n      <td>$28</td>\n      <td>30.0</td>\n      <td>45.0</td>\n      <td>5/21/2022</td>\n      <td>0.38</td>\n      <td>4.0</td>\n      <td>2.0</td>\n      <td>228.0</td>\n      <td>Pet friendly but please confirm with me if the...</td>\n    </tr>\n    <tr>\n      <th>2</th>\n      <td>1002403</td>\n      <td>THE VILLAGE OF HARLEM....NEW YORK !</td>\n      <td>78829239556</td>\n      <td>NaN</td>\n      <td>Elise</td>\n      <td>Manhattan</td>\n      <td>Harlem</td>\n      <td>40.80902</td>\n      <td>-73.94190</td>\n      <td>United States</td>\n      <td>...</td>\n      <td>$620</td>\n      <td>$124</td>\n      <td>3.0</td>\n      <td>0.0</td>\n      <td>NaN</td>\n      <td>NaN</td>\n      <td>5.0</td>\n      <td>1.0</td>\n      <td>352.0</td>\n      <td>I encourage you to use my kitchen, cooking and...</td>\n    </tr>\n    <tr>\n      <th>3</th>\n      <td>1002755</td>\n      <td>NaN</td>\n      <td>85098326012</td>\n      <td>unconfirmed</td>\n      <td>Garry</td>\n      <td>Brooklyn</td>\n      <td>Clinton Hill</td>\n      <td>40.68514</td>\n      <td>-73.95976</td>\n      <td>United States</td>\n      <td>...</td>\n      <td>$368</td>\n      <td>$74</td>\n      <td>30.0</td>\n      <td>270.0</td>\n      <td>7/5/2019</td>\n      <td>4.64</td>\n      <td>4.0</td>\n      <td>1.0</td>\n      <td>322.0</td>\n      <td>NaN</td>\n    </tr>\n    <tr>\n      <th>4</th>\n      <td>1003689</td>\n      <td>Entire Apt: Spacious Studio/Loft by central park</td>\n      <td>92037596077</td>\n      <td>verified</td>\n      <td>Lyndon</td>\n      <td>Manhattan</td>\n      <td>East Harlem</td>\n      <td>40.79851</td>\n      <td>-73.94399</td>\n      <td>United States</td>\n      <td>...</td>\n      <td>$204</td>\n      <td>$41</td>\n      <td>10.0</td>\n      <td>9.0</td>\n      <td>11/19/2018</td>\n      <td>0.10</td>\n      <td>3.0</td>\n      <td>1.0</td>\n      <td>289.0</td>\n      <td>Please no smoking in the house, porch or on th...</td>\n    </tr>\n    <tr>\n      <th>...</th>\n      <td>...</td>\n      <td>...</td>\n      <td>...</td>\n      <td>...</td>\n      <td>...</td>\n      <td>...</td>\n      <td>...</td>\n      <td>...</td>\n      <td>...</td>\n      <td>...</td>\n      <td>...</td>\n      <td>...</td>\n      <td>...</td>\n      <td>...</td>\n      <td>...</td>\n      <td>...</td>\n      <td>...</td>\n      <td>...</td>\n      <td>...</td>\n      <td>...</td>\n      <td>...</td>\n    </tr>\n    <tr>\n      <th>102594</th>\n      <td>6092437</td>\n      <td>Spare room in Williamsburg</td>\n      <td>12312296767</td>\n      <td>verified</td>\n      <td>Krik</td>\n      <td>Brooklyn</td>\n      <td>Williamsburg</td>\n      <td>40.70862</td>\n      <td>-73.94651</td>\n      <td>United States</td>\n      <td>...</td>\n      <td>$844</td>\n      <td>$169</td>\n      <td>1.0</td>\n      <td>0.0</td>\n      <td>NaN</td>\n      <td>NaN</td>\n      <td>3.0</td>\n      <td>1.0</td>\n      <td>227.0</td>\n      <td>No Smoking No Parties or Events of any kind Pl...</td>\n    </tr>\n    <tr>\n      <th>102595</th>\n      <td>6092990</td>\n      <td>Best Location near Columbia U</td>\n      <td>77864383453</td>\n      <td>unconfirmed</td>\n      <td>Mifan</td>\n      <td>Manhattan</td>\n      <td>Morningside Heights</td>\n      <td>40.80460</td>\n      <td>-73.96545</td>\n      <td>United States</td>\n      <td>...</td>\n      <td>$837</td>\n      <td>$167</td>\n      <td>1.0</td>\n      <td>1.0</td>\n      <td>7/6/2015</td>\n      <td>0.02</td>\n      <td>2.0</td>\n      <td>2.0</td>\n      <td>395.0</td>\n      <td>House rules: Guests agree to the following ter...</td>\n    </tr>\n    <tr>\n      <th>102596</th>\n      <td>6093542</td>\n      <td>Comfy, bright room in Brooklyn</td>\n      <td>69050334417</td>\n      <td>unconfirmed</td>\n      <td>Megan</td>\n      <td>Brooklyn</td>\n      <td>Park Slope</td>\n      <td>40.67505</td>\n      <td>-73.98045</td>\n      <td>United States</td>\n      <td>...</td>\n      <td>$988</td>\n      <td>$198</td>\n      <td>3.0</td>\n      <td>0.0</td>\n      <td>NaN</td>\n      <td>NaN</td>\n      <td>5.0</td>\n      <td>1.0</td>\n      <td>342.0</td>\n      <td>NaN</td>\n    </tr>\n    <tr>\n      <th>102597</th>\n      <td>6094094</td>\n      <td>Big Studio-One Stop from Midtown</td>\n      <td>11160591270</td>\n      <td>unconfirmed</td>\n      <td>Christopher</td>\n      <td>Queens</td>\n      <td>Long Island City</td>\n      <td>40.74989</td>\n      <td>-73.93777</td>\n      <td>United States</td>\n      <td>...</td>\n      <td>$546</td>\n      <td>$109</td>\n      <td>2.0</td>\n      <td>5.0</td>\n      <td>10/11/2015</td>\n      <td>0.10</td>\n      <td>3.0</td>\n      <td>1.0</td>\n      <td>386.0</td>\n      <td>NaN</td>\n    </tr>\n    <tr>\n      <th>102598</th>\n      <td>6094647</td>\n      <td>585 sf Luxury Studio</td>\n      <td>68170633372</td>\n      <td>unconfirmed</td>\n      <td>Rebecca</td>\n      <td>Manhattan</td>\n      <td>Upper West Side</td>\n      <td>40.76807</td>\n      <td>-73.98342</td>\n      <td>United States</td>\n      <td>...</td>\n      <td>$1,032</td>\n      <td>$206</td>\n      <td>1.0</td>\n      <td>0.0</td>\n      <td>NaN</td>\n      <td>NaN</td>\n      <td>3.0</td>\n      <td>1.0</td>\n      <td>69.0</td>\n      <td>NaN</td>\n    </tr>\n  </tbody>\n</table>\n<p>102599 rows × 25 columns</p>\n</div>"
     },
     "execution_count": 18,
     "metadata": {},
     "output_type": "execute_result"
    }
   ],
   "source": [
    "data.drop(columns = [\"license\"])"
   ],
   "metadata": {
    "collapsed": false,
    "ExecuteTime": {
     "end_time": "2025-03-28T08:05:14.563469Z",
     "start_time": "2025-03-28T08:05:14.439429Z"
    }
   },
   "id": "b0da466ff3d4b74e",
   "execution_count": 18
  },
  {
   "cell_type": "code",
   "outputs": [],
   "source": [
    "data.drop(columns = columns_to_drop, inplace=True)"
   ],
   "metadata": {
    "collapsed": false,
    "ExecuteTime": {
     "end_time": "2025-03-28T08:05:14.589411Z",
     "start_time": "2025-03-28T08:05:14.564524Z"
    }
   },
   "id": "b5b4393e8d3d9ea5",
   "execution_count": 19
  },
  {
   "cell_type": "code",
   "outputs": [
    {
     "data": {
      "text/plain": "(102599, 19)"
     },
     "execution_count": 20,
     "metadata": {},
     "output_type": "execute_result"
    }
   ],
   "source": [
    "data.shape"
   ],
   "metadata": {
    "collapsed": false,
    "ExecuteTime": {
     "end_time": "2025-03-28T08:05:14.596426Z",
     "start_time": "2025-03-28T08:05:14.590411Z"
    }
   },
   "id": "92dd0b15b4e5e3f2",
   "execution_count": 20
  },
  {
   "cell_type": "code",
   "outputs": [
    {
     "data": {
      "text/plain": "Index(['NAME', 'host id', 'host_identity_verified', 'host name',\n       'neighbourhood group', 'neighbourhood', 'lat', 'long', 'country',\n       'country code', 'instant_bookable', 'cancellation_policy', 'room type',\n       'Construction year', 'price', 'service fee', 'minimum nights',\n       'number of reviews', 'last review'],\n      dtype='object')"
     },
     "execution_count": 21,
     "metadata": {},
     "output_type": "execute_result"
    }
   ],
   "source": [
    "data.columns"
   ],
   "metadata": {
    "collapsed": false,
    "ExecuteTime": {
     "end_time": "2025-03-28T08:05:14.604694Z",
     "start_time": "2025-03-28T08:05:14.597426Z"
    }
   },
   "id": "7f20c76a42ef2347",
   "execution_count": 21
  },
  {
   "cell_type": "markdown",
   "source": [
    "# Renaming Columns"
   ],
   "metadata": {
    "collapsed": false
   },
   "id": "3ded5c7a8d8f9c9d"
  },
  {
   "cell_type": "code",
   "outputs": [],
   "source": [
    "data.rename(columns = {\"NAME\" : \"Name\"}, inplace = True)\n",
    "#The inplace makes it modified"
   ],
   "metadata": {
    "collapsed": false,
    "ExecuteTime": {
     "end_time": "2025-03-28T08:05:14.611539Z",
     "start_time": "2025-03-28T08:05:14.606692Z"
    }
   },
   "id": "70a97b529db8be18",
   "execution_count": 22
  },
  {
   "cell_type": "code",
   "outputs": [],
   "source": [
    "new_column_names = []\n",
    "for i in data.columns:\n",
    "    new_column_names.append(i.upper())"
   ],
   "metadata": {
    "collapsed": false,
    "ExecuteTime": {
     "end_time": "2025-03-28T08:05:14.618334Z",
     "start_time": "2025-03-28T08:05:14.613042Z"
    }
   },
   "id": "21b36353a8a05fd3",
   "execution_count": 23
  },
  {
   "cell_type": "code",
   "outputs": [
    {
     "data": {
      "text/plain": "['NAME',\n 'HOST ID',\n 'HOST_IDENTITY_VERIFIED',\n 'HOST NAME',\n 'NEIGHBOURHOOD GROUP',\n 'NEIGHBOURHOOD',\n 'LAT',\n 'LONG',\n 'COUNTRY',\n 'COUNTRY CODE',\n 'INSTANT_BOOKABLE',\n 'CANCELLATION_POLICY',\n 'ROOM TYPE',\n 'CONSTRUCTION YEAR',\n 'PRICE',\n 'SERVICE FEE',\n 'MINIMUM NIGHTS',\n 'NUMBER OF REVIEWS',\n 'LAST REVIEW']"
     },
     "execution_count": 24,
     "metadata": {},
     "output_type": "execute_result"
    }
   ],
   "source": [
    "new_column_names"
   ],
   "metadata": {
    "collapsed": false,
    "ExecuteTime": {
     "end_time": "2025-03-28T08:05:14.626642Z",
     "start_time": "2025-03-28T08:05:14.620331Z"
    }
   },
   "id": "81890d525fd3b798",
   "execution_count": 24
  },
  {
   "cell_type": "code",
   "outputs": [],
   "source": [
    "new_dataframe_to_modify = data.copy()"
   ],
   "metadata": {
    "collapsed": false,
    "ExecuteTime": {
     "end_time": "2025-03-28T08:05:14.642441Z",
     "start_time": "2025-03-28T08:05:14.627642Z"
    }
   },
   "id": "e9ed0e3283932452",
   "execution_count": 25
  },
  {
   "cell_type": "code",
   "outputs": [],
   "source": [
    "new_dataframe_to_modify.columns = new_column_names"
   ],
   "metadata": {
    "collapsed": false,
    "ExecuteTime": {
     "end_time": "2025-03-28T08:05:14.649089Z",
     "start_time": "2025-03-28T08:05:14.644437Z"
    }
   },
   "id": "e05c5ede940f92da",
   "execution_count": 26
  },
  {
   "cell_type": "code",
   "outputs": [
    {
     "data": {
      "text/plain": "                                                    NAME      HOST ID  \\\n0                     Clean & quiet apt home by the park  80014485718   \n1                                  Skylit Midtown Castle  52335172823   \n2                    THE VILLAGE OF HARLEM....NEW YORK !  78829239556   \n3                                                    NaN  85098326012   \n4       Entire Apt: Spacious Studio/Loft by central park  92037596077   \n...                                                  ...          ...   \n102594                        Spare room in Williamsburg  12312296767   \n102595                     Best Location near Columbia U  77864383453   \n102596                    Comfy, bright room in Brooklyn  69050334417   \n102597                  Big Studio-One Stop from Midtown  11160591270   \n102598                              585 sf Luxury Studio  68170633372   \n\n       HOST_IDENTITY_VERIFIED    HOST NAME NEIGHBOURHOOD GROUP  \\\n0                 unconfirmed     Madaline            Brooklyn   \n1                    verified        Jenna           Manhattan   \n2                         NaN        Elise           Manhattan   \n3                 unconfirmed        Garry            Brooklyn   \n4                    verified       Lyndon           Manhattan   \n...                       ...          ...                 ...   \n102594               verified         Krik            Brooklyn   \n102595            unconfirmed        Mifan           Manhattan   \n102596            unconfirmed        Megan            Brooklyn   \n102597            unconfirmed  Christopher              Queens   \n102598            unconfirmed      Rebecca           Manhattan   \n\n              NEIGHBOURHOOD       LAT      LONG        COUNTRY COUNTRY CODE  \\\n0                Kensington  40.64749 -73.97237  United States           US   \n1                   Midtown  40.75362 -73.98377  United States           US   \n2                    Harlem  40.80902 -73.94190  United States           US   \n3              Clinton Hill  40.68514 -73.95976  United States           US   \n4               East Harlem  40.79851 -73.94399  United States           US   \n...                     ...       ...       ...            ...          ...   \n102594         Williamsburg  40.70862 -73.94651  United States           US   \n102595  Morningside Heights  40.80460 -73.96545  United States           US   \n102596           Park Slope  40.67505 -73.98045  United States           US   \n102597     Long Island City  40.74989 -73.93777  United States           US   \n102598      Upper West Side  40.76807 -73.98342  United States           US   \n\n       INSTANT_BOOKABLE CANCELLATION_POLICY        ROOM TYPE  \\\n0                 False              strict     Private room   \n1                 False            moderate  Entire home/apt   \n2                  True            flexible     Private room   \n3                  True            moderate  Entire home/apt   \n4                 False            moderate  Entire home/apt   \n...                 ...                 ...              ...   \n102594            False            flexible     Private room   \n102595             True            moderate     Private room   \n102596             True            moderate     Private room   \n102597             True              strict  Entire home/apt   \n102598            False            flexible  Entire home/apt   \n\n        CONSTRUCTION YEAR    PRICE SERVICE FEE  MINIMUM NIGHTS  \\\n0                  2020.0    $966        $193             10.0   \n1                  2007.0    $142         $28             30.0   \n2                  2005.0    $620        $124              3.0   \n3                  2005.0    $368         $74             30.0   \n4                  2009.0    $204         $41             10.0   \n...                   ...      ...         ...             ...   \n102594             2003.0    $844        $169              1.0   \n102595             2016.0    $837        $167              1.0   \n102596             2009.0    $988        $198              3.0   \n102597             2015.0    $546        $109              2.0   \n102598             2010.0  $1,032        $206              1.0   \n\n        NUMBER OF REVIEWS LAST REVIEW  \n0                     9.0  10/19/2021  \n1                    45.0   5/21/2022  \n2                     0.0         NaN  \n3                   270.0    7/5/2019  \n4                     9.0  11/19/2018  \n...                   ...         ...  \n102594                0.0         NaN  \n102595                1.0    7/6/2015  \n102596                0.0         NaN  \n102597                5.0  10/11/2015  \n102598                0.0         NaN  \n\n[102599 rows x 19 columns]",
      "text/html": "<div>\n<style scoped>\n    .dataframe tbody tr th:only-of-type {\n        vertical-align: middle;\n    }\n\n    .dataframe tbody tr th {\n        vertical-align: top;\n    }\n\n    .dataframe thead th {\n        text-align: right;\n    }\n</style>\n<table border=\"1\" class=\"dataframe\">\n  <thead>\n    <tr style=\"text-align: right;\">\n      <th></th>\n      <th>NAME</th>\n      <th>HOST ID</th>\n      <th>HOST_IDENTITY_VERIFIED</th>\n      <th>HOST NAME</th>\n      <th>NEIGHBOURHOOD GROUP</th>\n      <th>NEIGHBOURHOOD</th>\n      <th>LAT</th>\n      <th>LONG</th>\n      <th>COUNTRY</th>\n      <th>COUNTRY CODE</th>\n      <th>INSTANT_BOOKABLE</th>\n      <th>CANCELLATION_POLICY</th>\n      <th>ROOM TYPE</th>\n      <th>CONSTRUCTION YEAR</th>\n      <th>PRICE</th>\n      <th>SERVICE FEE</th>\n      <th>MINIMUM NIGHTS</th>\n      <th>NUMBER OF REVIEWS</th>\n      <th>LAST REVIEW</th>\n    </tr>\n  </thead>\n  <tbody>\n    <tr>\n      <th>0</th>\n      <td>Clean &amp; quiet apt home by the park</td>\n      <td>80014485718</td>\n      <td>unconfirmed</td>\n      <td>Madaline</td>\n      <td>Brooklyn</td>\n      <td>Kensington</td>\n      <td>40.64749</td>\n      <td>-73.97237</td>\n      <td>United States</td>\n      <td>US</td>\n      <td>False</td>\n      <td>strict</td>\n      <td>Private room</td>\n      <td>2020.0</td>\n      <td>$966</td>\n      <td>$193</td>\n      <td>10.0</td>\n      <td>9.0</td>\n      <td>10/19/2021</td>\n    </tr>\n    <tr>\n      <th>1</th>\n      <td>Skylit Midtown Castle</td>\n      <td>52335172823</td>\n      <td>verified</td>\n      <td>Jenna</td>\n      <td>Manhattan</td>\n      <td>Midtown</td>\n      <td>40.75362</td>\n      <td>-73.98377</td>\n      <td>United States</td>\n      <td>US</td>\n      <td>False</td>\n      <td>moderate</td>\n      <td>Entire home/apt</td>\n      <td>2007.0</td>\n      <td>$142</td>\n      <td>$28</td>\n      <td>30.0</td>\n      <td>45.0</td>\n      <td>5/21/2022</td>\n    </tr>\n    <tr>\n      <th>2</th>\n      <td>THE VILLAGE OF HARLEM....NEW YORK !</td>\n      <td>78829239556</td>\n      <td>NaN</td>\n      <td>Elise</td>\n      <td>Manhattan</td>\n      <td>Harlem</td>\n      <td>40.80902</td>\n      <td>-73.94190</td>\n      <td>United States</td>\n      <td>US</td>\n      <td>True</td>\n      <td>flexible</td>\n      <td>Private room</td>\n      <td>2005.0</td>\n      <td>$620</td>\n      <td>$124</td>\n      <td>3.0</td>\n      <td>0.0</td>\n      <td>NaN</td>\n    </tr>\n    <tr>\n      <th>3</th>\n      <td>NaN</td>\n      <td>85098326012</td>\n      <td>unconfirmed</td>\n      <td>Garry</td>\n      <td>Brooklyn</td>\n      <td>Clinton Hill</td>\n      <td>40.68514</td>\n      <td>-73.95976</td>\n      <td>United States</td>\n      <td>US</td>\n      <td>True</td>\n      <td>moderate</td>\n      <td>Entire home/apt</td>\n      <td>2005.0</td>\n      <td>$368</td>\n      <td>$74</td>\n      <td>30.0</td>\n      <td>270.0</td>\n      <td>7/5/2019</td>\n    </tr>\n    <tr>\n      <th>4</th>\n      <td>Entire Apt: Spacious Studio/Loft by central park</td>\n      <td>92037596077</td>\n      <td>verified</td>\n      <td>Lyndon</td>\n      <td>Manhattan</td>\n      <td>East Harlem</td>\n      <td>40.79851</td>\n      <td>-73.94399</td>\n      <td>United States</td>\n      <td>US</td>\n      <td>False</td>\n      <td>moderate</td>\n      <td>Entire home/apt</td>\n      <td>2009.0</td>\n      <td>$204</td>\n      <td>$41</td>\n      <td>10.0</td>\n      <td>9.0</td>\n      <td>11/19/2018</td>\n    </tr>\n    <tr>\n      <th>...</th>\n      <td>...</td>\n      <td>...</td>\n      <td>...</td>\n      <td>...</td>\n      <td>...</td>\n      <td>...</td>\n      <td>...</td>\n      <td>...</td>\n      <td>...</td>\n      <td>...</td>\n      <td>...</td>\n      <td>...</td>\n      <td>...</td>\n      <td>...</td>\n      <td>...</td>\n      <td>...</td>\n      <td>...</td>\n      <td>...</td>\n      <td>...</td>\n    </tr>\n    <tr>\n      <th>102594</th>\n      <td>Spare room in Williamsburg</td>\n      <td>12312296767</td>\n      <td>verified</td>\n      <td>Krik</td>\n      <td>Brooklyn</td>\n      <td>Williamsburg</td>\n      <td>40.70862</td>\n      <td>-73.94651</td>\n      <td>United States</td>\n      <td>US</td>\n      <td>False</td>\n      <td>flexible</td>\n      <td>Private room</td>\n      <td>2003.0</td>\n      <td>$844</td>\n      <td>$169</td>\n      <td>1.0</td>\n      <td>0.0</td>\n      <td>NaN</td>\n    </tr>\n    <tr>\n      <th>102595</th>\n      <td>Best Location near Columbia U</td>\n      <td>77864383453</td>\n      <td>unconfirmed</td>\n      <td>Mifan</td>\n      <td>Manhattan</td>\n      <td>Morningside Heights</td>\n      <td>40.80460</td>\n      <td>-73.96545</td>\n      <td>United States</td>\n      <td>US</td>\n      <td>True</td>\n      <td>moderate</td>\n      <td>Private room</td>\n      <td>2016.0</td>\n      <td>$837</td>\n      <td>$167</td>\n      <td>1.0</td>\n      <td>1.0</td>\n      <td>7/6/2015</td>\n    </tr>\n    <tr>\n      <th>102596</th>\n      <td>Comfy, bright room in Brooklyn</td>\n      <td>69050334417</td>\n      <td>unconfirmed</td>\n      <td>Megan</td>\n      <td>Brooklyn</td>\n      <td>Park Slope</td>\n      <td>40.67505</td>\n      <td>-73.98045</td>\n      <td>United States</td>\n      <td>US</td>\n      <td>True</td>\n      <td>moderate</td>\n      <td>Private room</td>\n      <td>2009.0</td>\n      <td>$988</td>\n      <td>$198</td>\n      <td>3.0</td>\n      <td>0.0</td>\n      <td>NaN</td>\n    </tr>\n    <tr>\n      <th>102597</th>\n      <td>Big Studio-One Stop from Midtown</td>\n      <td>11160591270</td>\n      <td>unconfirmed</td>\n      <td>Christopher</td>\n      <td>Queens</td>\n      <td>Long Island City</td>\n      <td>40.74989</td>\n      <td>-73.93777</td>\n      <td>United States</td>\n      <td>US</td>\n      <td>True</td>\n      <td>strict</td>\n      <td>Entire home/apt</td>\n      <td>2015.0</td>\n      <td>$546</td>\n      <td>$109</td>\n      <td>2.0</td>\n      <td>5.0</td>\n      <td>10/11/2015</td>\n    </tr>\n    <tr>\n      <th>102598</th>\n      <td>585 sf Luxury Studio</td>\n      <td>68170633372</td>\n      <td>unconfirmed</td>\n      <td>Rebecca</td>\n      <td>Manhattan</td>\n      <td>Upper West Side</td>\n      <td>40.76807</td>\n      <td>-73.98342</td>\n      <td>United States</td>\n      <td>US</td>\n      <td>False</td>\n      <td>flexible</td>\n      <td>Entire home/apt</td>\n      <td>2010.0</td>\n      <td>$1,032</td>\n      <td>$206</td>\n      <td>1.0</td>\n      <td>0.0</td>\n      <td>NaN</td>\n    </tr>\n  </tbody>\n</table>\n<p>102599 rows × 19 columns</p>\n</div>"
     },
     "execution_count": 27,
     "metadata": {},
     "output_type": "execute_result"
    }
   ],
   "source": [
    "new_dataframe_to_modify"
   ],
   "metadata": {
    "collapsed": false,
    "ExecuteTime": {
     "end_time": "2025-03-28T08:05:14.681698Z",
     "start_time": "2025-03-28T08:05:14.653782Z"
    }
   },
   "id": "3e5d13f8e15616ec",
   "execution_count": 27
  },
  {
   "cell_type": "code",
   "outputs": [
    {
     "data": {
      "text/plain": "                                                    Name      host id  \\\n0                     Clean & quiet apt home by the park  80014485718   \n1                                  Skylit Midtown Castle  52335172823   \n2                    THE VILLAGE OF HARLEM....NEW YORK !  78829239556   \n3                                                    NaN  85098326012   \n4       Entire Apt: Spacious Studio/Loft by central park  92037596077   \n...                                                  ...          ...   \n102594                        Spare room in Williamsburg  12312296767   \n102595                     Best Location near Columbia U  77864383453   \n102596                    Comfy, bright room in Brooklyn  69050334417   \n102597                  Big Studio-One Stop from Midtown  11160591270   \n102598                              585 sf Luxury Studio  68170633372   \n\n       host_identity_verified    host name neighbourhood group  \\\n0                 unconfirmed     Madaline            Brooklyn   \n1                    verified        Jenna           Manhattan   \n2                         NaN        Elise           Manhattan   \n3                 unconfirmed        Garry            Brooklyn   \n4                    verified       Lyndon           Manhattan   \n...                       ...          ...                 ...   \n102594               verified         Krik            Brooklyn   \n102595            unconfirmed        Mifan           Manhattan   \n102596            unconfirmed        Megan            Brooklyn   \n102597            unconfirmed  Christopher              Queens   \n102598            unconfirmed      Rebecca           Manhattan   \n\n              neighbourhood       lat      long        country country code  \\\n0                Kensington  40.64749 -73.97237  United States           US   \n1                   Midtown  40.75362 -73.98377  United States           US   \n2                    Harlem  40.80902 -73.94190  United States           US   \n3              Clinton Hill  40.68514 -73.95976  United States           US   \n4               East Harlem  40.79851 -73.94399  United States           US   \n...                     ...       ...       ...            ...          ...   \n102594         Williamsburg  40.70862 -73.94651  United States           US   \n102595  Morningside Heights  40.80460 -73.96545  United States           US   \n102596           Park Slope  40.67505 -73.98045  United States           US   \n102597     Long Island City  40.74989 -73.93777  United States           US   \n102598      Upper West Side  40.76807 -73.98342  United States           US   \n\n       instant_bookable cancellation_policy        room type  \\\n0                 False              strict     Private room   \n1                 False            moderate  Entire home/apt   \n2                  True            flexible     Private room   \n3                  True            moderate  Entire home/apt   \n4                 False            moderate  Entire home/apt   \n...                 ...                 ...              ...   \n102594            False            flexible     Private room   \n102595             True            moderate     Private room   \n102596             True            moderate     Private room   \n102597             True              strict  Entire home/apt   \n102598            False            flexible  Entire home/apt   \n\n        Construction year    price service fee  minimum nights  \\\n0                  2020.0    $966        $193             10.0   \n1                  2007.0    $142         $28             30.0   \n2                  2005.0    $620        $124              3.0   \n3                  2005.0    $368         $74             30.0   \n4                  2009.0    $204         $41             10.0   \n...                   ...      ...         ...             ...   \n102594             2003.0    $844        $169              1.0   \n102595             2016.0    $837        $167              1.0   \n102596             2009.0    $988        $198              3.0   \n102597             2015.0    $546        $109              2.0   \n102598             2010.0  $1,032        $206              1.0   \n\n        number of reviews last review  \n0                     9.0  10/19/2021  \n1                    45.0   5/21/2022  \n2                     0.0         NaN  \n3                   270.0    7/5/2019  \n4                     9.0  11/19/2018  \n...                   ...         ...  \n102594                0.0         NaN  \n102595                1.0    7/6/2015  \n102596                0.0         NaN  \n102597                5.0  10/11/2015  \n102598                0.0         NaN  \n\n[102599 rows x 19 columns]",
      "text/html": "<div>\n<style scoped>\n    .dataframe tbody tr th:only-of-type {\n        vertical-align: middle;\n    }\n\n    .dataframe tbody tr th {\n        vertical-align: top;\n    }\n\n    .dataframe thead th {\n        text-align: right;\n    }\n</style>\n<table border=\"1\" class=\"dataframe\">\n  <thead>\n    <tr style=\"text-align: right;\">\n      <th></th>\n      <th>Name</th>\n      <th>host id</th>\n      <th>host_identity_verified</th>\n      <th>host name</th>\n      <th>neighbourhood group</th>\n      <th>neighbourhood</th>\n      <th>lat</th>\n      <th>long</th>\n      <th>country</th>\n      <th>country code</th>\n      <th>instant_bookable</th>\n      <th>cancellation_policy</th>\n      <th>room type</th>\n      <th>Construction year</th>\n      <th>price</th>\n      <th>service fee</th>\n      <th>minimum nights</th>\n      <th>number of reviews</th>\n      <th>last review</th>\n    </tr>\n  </thead>\n  <tbody>\n    <tr>\n      <th>0</th>\n      <td>Clean &amp; quiet apt home by the park</td>\n      <td>80014485718</td>\n      <td>unconfirmed</td>\n      <td>Madaline</td>\n      <td>Brooklyn</td>\n      <td>Kensington</td>\n      <td>40.64749</td>\n      <td>-73.97237</td>\n      <td>United States</td>\n      <td>US</td>\n      <td>False</td>\n      <td>strict</td>\n      <td>Private room</td>\n      <td>2020.0</td>\n      <td>$966</td>\n      <td>$193</td>\n      <td>10.0</td>\n      <td>9.0</td>\n      <td>10/19/2021</td>\n    </tr>\n    <tr>\n      <th>1</th>\n      <td>Skylit Midtown Castle</td>\n      <td>52335172823</td>\n      <td>verified</td>\n      <td>Jenna</td>\n      <td>Manhattan</td>\n      <td>Midtown</td>\n      <td>40.75362</td>\n      <td>-73.98377</td>\n      <td>United States</td>\n      <td>US</td>\n      <td>False</td>\n      <td>moderate</td>\n      <td>Entire home/apt</td>\n      <td>2007.0</td>\n      <td>$142</td>\n      <td>$28</td>\n      <td>30.0</td>\n      <td>45.0</td>\n      <td>5/21/2022</td>\n    </tr>\n    <tr>\n      <th>2</th>\n      <td>THE VILLAGE OF HARLEM....NEW YORK !</td>\n      <td>78829239556</td>\n      <td>NaN</td>\n      <td>Elise</td>\n      <td>Manhattan</td>\n      <td>Harlem</td>\n      <td>40.80902</td>\n      <td>-73.94190</td>\n      <td>United States</td>\n      <td>US</td>\n      <td>True</td>\n      <td>flexible</td>\n      <td>Private room</td>\n      <td>2005.0</td>\n      <td>$620</td>\n      <td>$124</td>\n      <td>3.0</td>\n      <td>0.0</td>\n      <td>NaN</td>\n    </tr>\n    <tr>\n      <th>3</th>\n      <td>NaN</td>\n      <td>85098326012</td>\n      <td>unconfirmed</td>\n      <td>Garry</td>\n      <td>Brooklyn</td>\n      <td>Clinton Hill</td>\n      <td>40.68514</td>\n      <td>-73.95976</td>\n      <td>United States</td>\n      <td>US</td>\n      <td>True</td>\n      <td>moderate</td>\n      <td>Entire home/apt</td>\n      <td>2005.0</td>\n      <td>$368</td>\n      <td>$74</td>\n      <td>30.0</td>\n      <td>270.0</td>\n      <td>7/5/2019</td>\n    </tr>\n    <tr>\n      <th>4</th>\n      <td>Entire Apt: Spacious Studio/Loft by central park</td>\n      <td>92037596077</td>\n      <td>verified</td>\n      <td>Lyndon</td>\n      <td>Manhattan</td>\n      <td>East Harlem</td>\n      <td>40.79851</td>\n      <td>-73.94399</td>\n      <td>United States</td>\n      <td>US</td>\n      <td>False</td>\n      <td>moderate</td>\n      <td>Entire home/apt</td>\n      <td>2009.0</td>\n      <td>$204</td>\n      <td>$41</td>\n      <td>10.0</td>\n      <td>9.0</td>\n      <td>11/19/2018</td>\n    </tr>\n    <tr>\n      <th>...</th>\n      <td>...</td>\n      <td>...</td>\n      <td>...</td>\n      <td>...</td>\n      <td>...</td>\n      <td>...</td>\n      <td>...</td>\n      <td>...</td>\n      <td>...</td>\n      <td>...</td>\n      <td>...</td>\n      <td>...</td>\n      <td>...</td>\n      <td>...</td>\n      <td>...</td>\n      <td>...</td>\n      <td>...</td>\n      <td>...</td>\n      <td>...</td>\n    </tr>\n    <tr>\n      <th>102594</th>\n      <td>Spare room in Williamsburg</td>\n      <td>12312296767</td>\n      <td>verified</td>\n      <td>Krik</td>\n      <td>Brooklyn</td>\n      <td>Williamsburg</td>\n      <td>40.70862</td>\n      <td>-73.94651</td>\n      <td>United States</td>\n      <td>US</td>\n      <td>False</td>\n      <td>flexible</td>\n      <td>Private room</td>\n      <td>2003.0</td>\n      <td>$844</td>\n      <td>$169</td>\n      <td>1.0</td>\n      <td>0.0</td>\n      <td>NaN</td>\n    </tr>\n    <tr>\n      <th>102595</th>\n      <td>Best Location near Columbia U</td>\n      <td>77864383453</td>\n      <td>unconfirmed</td>\n      <td>Mifan</td>\n      <td>Manhattan</td>\n      <td>Morningside Heights</td>\n      <td>40.80460</td>\n      <td>-73.96545</td>\n      <td>United States</td>\n      <td>US</td>\n      <td>True</td>\n      <td>moderate</td>\n      <td>Private room</td>\n      <td>2016.0</td>\n      <td>$837</td>\n      <td>$167</td>\n      <td>1.0</td>\n      <td>1.0</td>\n      <td>7/6/2015</td>\n    </tr>\n    <tr>\n      <th>102596</th>\n      <td>Comfy, bright room in Brooklyn</td>\n      <td>69050334417</td>\n      <td>unconfirmed</td>\n      <td>Megan</td>\n      <td>Brooklyn</td>\n      <td>Park Slope</td>\n      <td>40.67505</td>\n      <td>-73.98045</td>\n      <td>United States</td>\n      <td>US</td>\n      <td>True</td>\n      <td>moderate</td>\n      <td>Private room</td>\n      <td>2009.0</td>\n      <td>$988</td>\n      <td>$198</td>\n      <td>3.0</td>\n      <td>0.0</td>\n      <td>NaN</td>\n    </tr>\n    <tr>\n      <th>102597</th>\n      <td>Big Studio-One Stop from Midtown</td>\n      <td>11160591270</td>\n      <td>unconfirmed</td>\n      <td>Christopher</td>\n      <td>Queens</td>\n      <td>Long Island City</td>\n      <td>40.74989</td>\n      <td>-73.93777</td>\n      <td>United States</td>\n      <td>US</td>\n      <td>True</td>\n      <td>strict</td>\n      <td>Entire home/apt</td>\n      <td>2015.0</td>\n      <td>$546</td>\n      <td>$109</td>\n      <td>2.0</td>\n      <td>5.0</td>\n      <td>10/11/2015</td>\n    </tr>\n    <tr>\n      <th>102598</th>\n      <td>585 sf Luxury Studio</td>\n      <td>68170633372</td>\n      <td>unconfirmed</td>\n      <td>Rebecca</td>\n      <td>Manhattan</td>\n      <td>Upper West Side</td>\n      <td>40.76807</td>\n      <td>-73.98342</td>\n      <td>United States</td>\n      <td>US</td>\n      <td>False</td>\n      <td>flexible</td>\n      <td>Entire home/apt</td>\n      <td>2010.0</td>\n      <td>$1,032</td>\n      <td>$206</td>\n      <td>1.0</td>\n      <td>0.0</td>\n      <td>NaN</td>\n    </tr>\n  </tbody>\n</table>\n<p>102599 rows × 19 columns</p>\n</div>"
     },
     "execution_count": 28,
     "metadata": {},
     "output_type": "execute_result"
    }
   ],
   "source": [
    "data"
   ],
   "metadata": {
    "collapsed": false,
    "ExecuteTime": {
     "end_time": "2025-03-28T08:05:14.713035Z",
     "start_time": "2025-03-28T08:05:14.683695Z"
    }
   },
   "id": "c45b24ddc1964664",
   "execution_count": 28
  },
  {
   "cell_type": "markdown",
   "source": [
    "# Dropping duplicated columns"
   ],
   "metadata": {
    "collapsed": false
   },
   "id": "38085e3a82ae9f29"
  },
  {
   "cell_type": "code",
   "outputs": [
    {
     "data": {
      "text/plain": "False    102058\nTrue        541\nName: count, dtype: int64"
     },
     "execution_count": 29,
     "metadata": {},
     "output_type": "execute_result"
    }
   ],
   "source": [
    "data.duplicated().value_counts()\n",
    "# data.duplicated().sum()\n",
    "#There is 541 duplicated rows"
   ],
   "metadata": {
    "collapsed": false,
    "ExecuteTime": {
     "end_time": "2025-03-28T08:05:15.286449Z",
     "start_time": "2025-03-28T08:05:15.022996Z"
    }
   },
   "id": "b4c8b61d3a4506ab",
   "execution_count": 29
  },
  {
   "cell_type": "code",
   "outputs": [],
   "source": [
    "data.drop_duplicates(inplace = True)"
   ],
   "metadata": {
    "collapsed": false,
    "ExecuteTime": {
     "end_time": "2025-03-28T08:05:15.640938Z",
     "start_time": "2025-03-28T08:05:15.359318Z"
    }
   },
   "id": "c7f22ee7594bc01d",
   "execution_count": 30
  },
  {
   "cell_type": "code",
   "outputs": [
    {
     "data": {
      "text/plain": "np.int64(0)"
     },
     "execution_count": 31,
     "metadata": {},
     "output_type": "execute_result"
    }
   ],
   "source": [
    "data.duplicated().sum()\n",
    "#0"
   ],
   "metadata": {
    "collapsed": false,
    "ExecuteTime": {
     "end_time": "2025-03-28T08:05:16.097751Z",
     "start_time": "2025-03-28T08:05:15.799796Z"
    }
   },
   "id": "f553b7af8c4e87ee",
   "execution_count": 31
  },
  {
   "cell_type": "code",
   "outputs": [
    {
     "data": {
      "text/plain": "'Deleting redundant columns.\\n   Renaming the columns.\\n   Dropping the duplicated columns.\\n   Remove the NaN values from the dataset.\\n   Cleaning individual columns.\\n   Check for some more Transformations.'"
     },
     "execution_count": 32,
     "metadata": {},
     "output_type": "execute_result"
    }
   ],
   "source": [
    "\"\"\"Deleting redundant columns.\n",
    "   Renaming the columns.\n",
    "   Dropping the duplicated columns.\n",
    "   Remove the NaN values from the dataset.\n",
    "   Cleaning individual columns.\n",
    "   Check for some more Transformations.\"\"\""
   ],
   "metadata": {
    "collapsed": false,
    "ExecuteTime": {
     "end_time": "2025-03-28T08:05:16.258160Z",
     "start_time": "2025-03-28T08:05:16.252531Z"
    }
   },
   "id": "ccb7c0ab1d766960",
   "execution_count": 32
  },
  {
   "cell_type": "code",
   "outputs": [
    {
     "data": {
      "text/plain": "Name                        250\nhost id                       0\nhost_identity_verified      289\nhost name                   404\nneighbourhood group          29\nneighbourhood                16\nlat                           8\nlong                          8\ncountry                     532\ncountry code                131\ninstant_bookable            105\ncancellation_policy          76\nroom type                     0\nConstruction year           214\nprice                       247\nservice fee                 273\nminimum nights              400\nnumber of reviews           183\nlast review               15832\ndtype: int64"
     },
     "execution_count": 33,
     "metadata": {},
     "output_type": "execute_result"
    }
   ],
   "source": [
    "data.isna().sum()"
   ],
   "metadata": {
    "collapsed": false,
    "ExecuteTime": {
     "end_time": "2025-03-28T08:05:16.480296Z",
     "start_time": "2025-03-28T08:05:16.399619Z"
    }
   },
   "id": "4c4c78eb6cc57887",
   "execution_count": 33
  },
  {
   "cell_type": "code",
   "outputs": [],
   "source": [
    "data.drop(columns=[\"last review\"], inplace = True)"
   ],
   "metadata": {
    "collapsed": false,
    "ExecuteTime": {
     "end_time": "2025-03-28T08:05:16.564810Z",
     "start_time": "2025-03-28T08:05:16.540607Z"
    }
   },
   "id": "a3c07fb73d379c9c",
   "execution_count": 34
  },
  {
   "cell_type": "markdown",
   "source": [
    "# Removing Nan Values\n"
   ],
   "metadata": {
    "collapsed": false
   },
   "id": "5431a6cb52f8b3bf"
  },
  {
   "cell_type": "code",
   "outputs": [
    {
     "data": {
      "text/plain": "Index(['Name', 'host id', 'host_identity_verified', 'host name',\n       'neighbourhood group', 'neighbourhood', 'lat', 'long', 'country',\n       'country code', 'instant_bookable', 'cancellation_policy', 'room type',\n       'Construction year', 'price', 'service fee', 'minimum nights',\n       'number of reviews'],\n      dtype='object')"
     },
     "execution_count": 35,
     "metadata": {},
     "output_type": "execute_result"
    }
   ],
   "source": [
    "data.columns"
   ],
   "metadata": {
    "collapsed": false,
    "ExecuteTime": {
     "end_time": "2025-03-28T08:05:16.640060Z",
     "start_time": "2025-03-28T08:05:16.634549Z"
    }
   },
   "id": "be8fcaadae98f538",
   "execution_count": 35
  },
  {
   "cell_type": "code",
   "outputs": [],
   "source": [
    "data.dropna(inplace=True)"
   ],
   "metadata": {
    "collapsed": false,
    "ExecuteTime": {
     "end_time": "2025-03-28T08:05:16.889433Z",
     "start_time": "2025-03-28T08:05:16.790092Z"
    }
   },
   "id": "6d6cd4c4ba13dc98",
   "execution_count": 36
  },
  {
   "cell_type": "code",
   "outputs": [
    {
     "data": {
      "text/plain": "Name                      0\nhost id                   0\nhost_identity_verified    0\nhost name                 0\nneighbourhood group       0\nneighbourhood             0\nlat                       0\nlong                      0\ncountry                   0\ncountry code              0\ninstant_bookable          0\ncancellation_policy       0\nroom type                 0\nConstruction year         0\nprice                     0\nservice fee               0\nminimum nights            0\nnumber of reviews         0\ndtype: int64"
     },
     "execution_count": 37,
     "metadata": {},
     "output_type": "execute_result"
    }
   ],
   "source": [
    "data.isna().sum()"
   ],
   "metadata": {
    "collapsed": false,
    "ExecuteTime": {
     "end_time": "2025-03-28T08:05:16.971089Z",
     "start_time": "2025-03-28T08:05:16.891429Z"
    }
   },
   "id": "3f244450835531c7",
   "execution_count": 37
  },
  {
   "cell_type": "code",
   "outputs": [
    {
     "data": {
      "text/plain": "'Deleting redundant columns.\\n   Renaming the columns.\\n   Dropping the duplicated columns.\\n   Remove the NaN values from the dataset.\\n   Cleaning individual columns.\\n   Check for some more Transformations.'"
     },
     "execution_count": 38,
     "metadata": {},
     "output_type": "execute_result"
    }
   ],
   "source": [
    "\"\"\"Deleting redundant columns.\n",
    "   Renaming the columns.\n",
    "   Dropping the duplicated columns.\n",
    "   Remove the NaN values from the dataset.\n",
    "   Cleaning individual columns.\n",
    "   Check for some more Transformations.\"\"\""
   ],
   "metadata": {
    "collapsed": false,
    "ExecuteTime": {
     "end_time": "2025-03-28T08:05:16.978442Z",
     "start_time": "2025-03-28T08:05:16.973086Z"
    }
   },
   "id": "46847f733dcc83b3",
   "execution_count": 38
  },
  {
   "cell_type": "markdown",
   "source": [
    "# Cleaning Individual columns"
   ],
   "metadata": {
    "collapsed": false
   },
   "id": "29f471cc0bf8f213"
  },
  {
   "cell_type": "code",
   "outputs": [
    {
     "data": {
      "text/plain": "0         UNCONFIRMED\n1            VERIFIED\n4            VERIFIED\n5            VERIFIED\n7         UNCONFIRMED\n             ...     \n102029    UNCONFIRMED\n102030       VERIFIED\n102031       VERIFIED\n102032    UNCONFIRMED\n102040       VERIFIED\nName: host_identity_verified, Length: 99342, dtype: object"
     },
     "execution_count": 39,
     "metadata": {},
     "output_type": "execute_result"
    }
   ],
   "source": [
    "data[\"host_identity_verified\"].str.upper()"
   ],
   "metadata": {
    "collapsed": false,
    "ExecuteTime": {
     "end_time": "2025-03-28T08:05:17.011622Z",
     "start_time": "2025-03-28T08:05:16.979442Z"
    }
   },
   "id": "860ab580707858c3",
   "execution_count": 39
  },
  {
   "cell_type": "code",
   "outputs": [],
   "source": [
    "data[\"host_identity_verified\"] = data[\"host_identity_verified\"].str.upper()"
   ],
   "metadata": {
    "collapsed": false,
    "ExecuteTime": {
     "end_time": "2025-03-28T08:05:17.087995Z",
     "start_time": "2025-03-28T08:05:17.051495Z"
    }
   },
   "id": "e2fc0e2423821bc1",
   "execution_count": 40
  },
  {
   "cell_type": "code",
   "outputs": [
    {
     "data": {
      "text/plain": "0         UNCONFIRMED\n1            VERIFIED\n4            VERIFIED\n5            VERIFIED\n7         UNCONFIRMED\n             ...     \n102029    UNCONFIRMED\n102030       VERIFIED\n102031       VERIFIED\n102032    UNCONFIRMED\n102040       VERIFIED\nName: host_identity_verified, Length: 99342, dtype: object"
     },
     "execution_count": 41,
     "metadata": {},
     "output_type": "execute_result"
    }
   ],
   "source": [
    "data[\"host_identity_verified\"]"
   ],
   "metadata": {
    "collapsed": false,
    "ExecuteTime": {
     "end_time": "2025-03-28T08:05:17.113184Z",
     "start_time": "2025-03-28T08:05:17.106002Z"
    }
   },
   "id": "df043913e6c67688",
   "execution_count": 41
  },
  {
   "cell_type": "code",
   "outputs": [],
   "source": [
    "data[\"instant_bookable\"] = data[\"instant_bookable\"].apply(lambda x: 1 if x == True else 0)"
   ],
   "metadata": {
    "collapsed": false,
    "ExecuteTime": {
     "end_time": "2025-03-28T08:05:17.320575Z",
     "start_time": "2025-03-28T08:05:17.262828Z"
    }
   },
   "id": "c6d23288533c0ffc",
   "execution_count": 42
  },
  {
   "cell_type": "code",
   "outputs": [],
   "source": [
    "data.reset_index(inplace=True)"
   ],
   "metadata": {
    "collapsed": false,
    "ExecuteTime": {
     "end_time": "2025-03-28T08:05:17.389915Z",
     "start_time": "2025-03-28T08:05:17.384705Z"
    }
   },
   "id": "3922ef3adfbe38e6",
   "execution_count": 43
  },
  {
   "cell_type": "code",
   "outputs": [
    {
     "data": {
      "text/plain": "'Deleting redundant columns.\\n   Renaming the columns.\\n   Dropping the duplicated columns.\\n   Remove the NaN values from the dataset.\\n   Cleaning individual columns.\\n   Check for some more Transformations.'"
     },
     "execution_count": 44,
     "metadata": {},
     "output_type": "execute_result"
    }
   ],
   "source": [
    "\"\"\"Deleting redundant columns.\n",
    "   Renaming the columns.\n",
    "   Dropping the duplicated columns.\n",
    "   Remove the NaN values from the dataset.\n",
    "   Cleaning individual columns.\n",
    "   Check for some more Transformations.\"\"\""
   ],
   "metadata": {
    "collapsed": false,
    "ExecuteTime": {
     "end_time": "2025-03-28T08:05:17.436683Z",
     "start_time": "2025-03-28T08:05:17.430849Z"
    }
   },
   "id": "416f3c6c19245bed",
   "execution_count": 44
  },
  {
   "cell_type": "code",
   "outputs": [
    {
     "data": {
      "text/plain": "0          $966 \n1          $142 \n2          $204 \n3          $577 \n4        $1,060 \n          ...   \n99337      $822 \n99338      $455 \n99339    $1,078 \n99340      $103 \n99341      $982 \nName: price, Length: 99342, dtype: object"
     },
     "execution_count": 45,
     "metadata": {},
     "output_type": "execute_result"
    }
   ],
   "source": [
    "data[\"price\"]"
   ],
   "metadata": {
    "collapsed": false,
    "ExecuteTime": {
     "end_time": "2025-03-28T08:05:17.503195Z",
     "start_time": "2025-03-28T08:05:17.495493Z"
    }
   },
   "id": "eca0bcfd1fff9a4c",
   "execution_count": 45
  },
  {
   "cell_type": "code",
   "outputs": [
    {
     "data": {
      "text/plain": "str"
     },
     "execution_count": 46,
     "metadata": {},
     "output_type": "execute_result"
    }
   ],
   "source": [
    "type(data[\"price\"][15])"
   ],
   "metadata": {
    "collapsed": false,
    "ExecuteTime": {
     "end_time": "2025-03-28T08:05:17.594326Z",
     "start_time": "2025-03-28T08:05:17.587939Z"
    }
   },
   "id": "a1df8c26c217f3dc",
   "execution_count": 46
  },
  {
   "cell_type": "code",
   "outputs": [],
   "source": [
    "data[\"price\"] = data[\"price\"].str.replace(\"$\", \"\")"
   ],
   "metadata": {
    "collapsed": false,
    "ExecuteTime": {
     "end_time": "2025-03-28T08:05:17.704441Z",
     "start_time": "2025-03-28T08:05:17.655314Z"
    }
   },
   "id": "4beef913980dc6e7",
   "execution_count": 47
  },
  {
   "cell_type": "code",
   "outputs": [],
   "source": [
    "data[\"price\"] = data[\"price\"].str.replace(\",\", \"\")"
   ],
   "metadata": {
    "collapsed": false,
    "ExecuteTime": {
     "end_time": "2025-03-28T08:05:17.875063Z",
     "start_time": "2025-03-28T08:05:17.800130Z"
    }
   },
   "id": "479929d8fd523cfd",
   "execution_count": 48
  },
  {
   "cell_type": "code",
   "outputs": [
    {
     "data": {
      "text/plain": "0         966 \n1         142 \n2         204 \n3         577 \n4        1060 \n         ...  \n99337     822 \n99338     455 \n99339    1078 \n99340     103 \n99341     982 \nName: price, Length: 99342, dtype: object"
     },
     "execution_count": 49,
     "metadata": {},
     "output_type": "execute_result"
    }
   ],
   "source": [
    "data[\"price\"]"
   ],
   "metadata": {
    "collapsed": false,
    "ExecuteTime": {
     "end_time": "2025-03-28T08:05:17.884664Z",
     "start_time": "2025-03-28T08:05:17.877060Z"
    }
   },
   "id": "80ae85a56f41782e",
   "execution_count": 49
  },
  {
   "cell_type": "code",
   "outputs": [
    {
     "data": {
      "text/plain": "'1020 '"
     },
     "execution_count": 50,
     "metadata": {},
     "output_type": "execute_result"
    }
   ],
   "source": [
    "data[\"price\"][15]"
   ],
   "metadata": {
    "collapsed": false,
    "ExecuteTime": {
     "end_time": "2025-03-28T08:05:17.946369Z",
     "start_time": "2025-03-28T08:05:17.938960Z"
    }
   },
   "id": "a9e9b9852fb0db5e",
   "execution_count": 50
  },
  {
   "cell_type": "code",
   "outputs": [],
   "source": [
    "data[\"price\"] = data[\"price\"].str.replace(\" \", \"\")"
   ],
   "metadata": {
    "collapsed": false,
    "ExecuteTime": {
     "end_time": "2025-03-28T08:05:18.076804Z",
     "start_time": "2025-03-28T08:05:18.024406Z"
    }
   },
   "id": "318e19da1e896ab1",
   "execution_count": 51
  },
  {
   "cell_type": "code",
   "outputs": [
    {
     "data": {
      "text/plain": "'1020'"
     },
     "execution_count": 52,
     "metadata": {},
     "output_type": "execute_result"
    }
   ],
   "source": [
    "data[\"price\"][15]"
   ],
   "metadata": {
    "collapsed": false,
    "ExecuteTime": {
     "end_time": "2025-03-28T08:05:18.173550Z",
     "start_time": "2025-03-28T08:05:18.167307Z"
    }
   },
   "id": "4c84ee6db1c6d4f7",
   "execution_count": 52
  },
  {
   "cell_type": "code",
   "outputs": [
    {
     "data": {
      "text/plain": "str"
     },
     "execution_count": 53,
     "metadata": {},
     "output_type": "execute_result"
    }
   ],
   "source": [
    "type(data[\"price\"][15])\n",
    "#We want it integer not str"
   ],
   "metadata": {
    "collapsed": false,
    "ExecuteTime": {
     "end_time": "2025-03-28T08:05:18.277343Z",
     "start_time": "2025-03-28T08:05:18.271396Z"
    }
   },
   "id": "2d1d4d2fc3a9a212",
   "execution_count": 53
  },
  {
   "cell_type": "code",
   "outputs": [
    {
     "data": {
      "text/plain": "0         966\n1         142\n2         204\n3         577\n4        1060\n         ... \n99337     822\n99338     455\n99339    1078\n99340     103\n99341     982\nName: price, Length: 99342, dtype: int64"
     },
     "execution_count": 54,
     "metadata": {},
     "output_type": "execute_result"
    }
   ],
   "source": [
    "data[\"price\"].astype(int)"
   ],
   "metadata": {
    "collapsed": false,
    "ExecuteTime": {
     "end_time": "2025-03-28T08:05:18.438616Z",
     "start_time": "2025-03-28T08:05:18.412967Z"
    }
   },
   "id": "3ba9fd30f1d32d9e",
   "execution_count": 54
  },
  {
   "cell_type": "code",
   "outputs": [],
   "source": [
    "data[\"price\"] = data[\"price\"].astype(int)"
   ],
   "metadata": {
    "collapsed": false,
    "ExecuteTime": {
     "end_time": "2025-03-28T08:05:18.466213Z",
     "start_time": "2025-03-28T08:05:18.442605Z"
    }
   },
   "id": "204ea0a2302a0c4e",
   "execution_count": 55
  },
  {
   "cell_type": "code",
   "outputs": [
    {
     "data": {
      "text/plain": "numpy.int64"
     },
     "execution_count": 56,
     "metadata": {},
     "output_type": "execute_result"
    }
   ],
   "source": [
    "type(data[\"price\"][1])\n",
    "#Now it is cleaned"
   ],
   "metadata": {
    "collapsed": false,
    "ExecuteTime": {
     "end_time": "2025-03-28T08:05:18.553372Z",
     "start_time": "2025-03-28T08:05:18.546599Z"
    }
   },
   "id": "6ad1792d5746b622",
   "execution_count": 56
  },
  {
   "cell_type": "code",
   "outputs": [],
   "source": [
    "data[\"Construction year\"] = data[\"Construction year\"].astype(int)"
   ],
   "metadata": {
    "collapsed": false,
    "ExecuteTime": {
     "end_time": "2025-03-28T08:05:18.645675Z",
     "start_time": "2025-03-28T08:05:18.640223Z"
    }
   },
   "id": "ef3104054723d3ea",
   "execution_count": 57
  },
  {
   "cell_type": "code",
   "outputs": [],
   "source": [
    "data.columns = data.columns.str.lower().str.replace(\"-\", \"_\")"
   ],
   "metadata": {
    "collapsed": false,
    "ExecuteTime": {
     "end_time": "2025-03-28T08:08:32.675847Z",
     "start_time": "2025-03-28T08:08:32.670437Z"
    }
   },
   "id": "e3cceef145117aa1",
   "execution_count": 73
  },
  {
   "cell_type": "code",
   "outputs": [
    {
     "data": {
      "text/plain": "Index(['index', 'name', 'host_id', 'host_identity_verified', 'host_name',\n       'neighbourhood_group', 'neighbourhood', 'lat', 'long', 'country',\n       'country_code', 'instant_bookable', 'cancellation_policy', 'room_type',\n       'construction_year', 'price', 'service_fee', 'minimum_nights',\n       'number_of_reviews'],\n      dtype='object')"
     },
     "execution_count": 74,
     "metadata": {},
     "output_type": "execute_result"
    }
   ],
   "source": [
    "data.columns"
   ],
   "metadata": {
    "collapsed": false,
    "ExecuteTime": {
     "end_time": "2025-03-28T08:08:33.426950Z",
     "start_time": "2025-03-28T08:08:33.419617Z"
    }
   },
   "id": "4a312db2cf276861",
   "execution_count": 74
  },
  {
   "cell_type": "code",
   "outputs": [
    {
     "data": {
      "text/plain": "        index                                              name      host_id  \\\n0           0                Clean & quiet apt home by the park  80014485718   \n1           1                             Skylit Midtown Castle  52335172823   \n2           4  Entire Apt: Spacious Studio/Loft by central park  92037596077   \n3           5         Large Cozy 1 BR Apartment In Midtown East  45498551794   \n4           7                                   BlissArtsSpace!  90821839709   \n...       ...                                               ...          ...   \n99337  102029            Cozy room in a 2B with backyard access   5155155913   \n99338  102030                      An East Williamsburg Delight  71564706996   \n99339  102031                      Cozy bedroom in williamsburg  83101851929   \n99340  102032                            Spacious Room w/ 2 Bed  69037598918   \n99341  102040                     Room in Queens, NY, near LGA.  56457739998   \n\n      host_identity_verified  host_name neighbourhood_group  \\\n0                UNCONFIRMED   Madaline            Brooklyn   \n1                   VERIFIED      Jenna           Manhattan   \n2                   VERIFIED     Lyndon           Manhattan   \n3                   VERIFIED   Michelle           Manhattan   \n4                UNCONFIRMED       Emma            Brooklyn   \n...                      ...        ...                 ...   \n99337            UNCONFIRMED   Cristina              Queens   \n99338               VERIFIED      Petra            Brooklyn   \n99339               VERIFIED    Russell            Brooklyn   \n99340            UNCONFIRMED  Christine              Queens   \n99341               VERIFIED      Sonia              Queens   \n\n            neighbourhood       lat      long        country country_code  \\\n0              Kensington  40.64749 -73.97237  United States           US   \n1                 Midtown  40.75362 -73.98377  United States           US   \n2             East Harlem  40.79851 -73.94399  United States           US   \n3             Murray Hill  40.74767 -73.97500  United States           US   \n4      Bedford-Stuyvesant  40.68688 -73.95596  United States           US   \n...                   ...       ...       ...            ...          ...   \n99337             Astoria  40.76987 -73.92679  United States           US   \n99338  Bedford-Stuyvesant  40.68335 -73.91222  United States           US   \n99339        Williamsburg  40.70870 -73.96710  United States           US   \n99340             Bayside  40.75047 -73.75349  United States           US   \n99341       East Elmhurst  40.76245 -73.87938  United States           US   \n\n       instant_bookable cancellation_policy        room_type  \\\n0                     0              strict     Private room   \n1                     0            moderate  Entire home/apt   \n2                     0            moderate  Entire home/apt   \n3                     1            flexible  Entire home/apt   \n4                     0            moderate     Private room   \n...                 ...                 ...              ...   \n99337                 0            flexible     Private room   \n99338                 1            moderate     Private room   \n99339                 1            flexible     Private room   \n99340                 0            moderate     Private room   \n99341                 1              strict     Private room   \n\n       construction_year  price service_fee  minimum_nights  number_of_reviews  \n0                   2020    966       $193             10.0                9.0  \n1                   2007    142        $28             30.0               45.0  \n2                   2009    204        $41             10.0                9.0  \n3                   2013    577       $115              3.0               74.0  \n4                   2009   1060       $212             45.0               49.0  \n...                  ...    ...         ...             ...                ...  \n99337               2018    822       $164              1.0                9.0  \n99338               2015    455        $91              4.0               36.0  \n99339               2020   1078       $216              1.0               58.0  \n99340               2007    103        $21              7.0               40.0  \n99341               2022    982       $196              1.0              239.0  \n\n[99342 rows x 19 columns]",
      "text/html": "<div>\n<style scoped>\n    .dataframe tbody tr th:only-of-type {\n        vertical-align: middle;\n    }\n\n    .dataframe tbody tr th {\n        vertical-align: top;\n    }\n\n    .dataframe thead th {\n        text-align: right;\n    }\n</style>\n<table border=\"1\" class=\"dataframe\">\n  <thead>\n    <tr style=\"text-align: right;\">\n      <th></th>\n      <th>index</th>\n      <th>name</th>\n      <th>host_id</th>\n      <th>host_identity_verified</th>\n      <th>host_name</th>\n      <th>neighbourhood_group</th>\n      <th>neighbourhood</th>\n      <th>lat</th>\n      <th>long</th>\n      <th>country</th>\n      <th>country_code</th>\n      <th>instant_bookable</th>\n      <th>cancellation_policy</th>\n      <th>room_type</th>\n      <th>construction_year</th>\n      <th>price</th>\n      <th>service_fee</th>\n      <th>minimum_nights</th>\n      <th>number_of_reviews</th>\n    </tr>\n  </thead>\n  <tbody>\n    <tr>\n      <th>0</th>\n      <td>0</td>\n      <td>Clean &amp; quiet apt home by the park</td>\n      <td>80014485718</td>\n      <td>UNCONFIRMED</td>\n      <td>Madaline</td>\n      <td>Brooklyn</td>\n      <td>Kensington</td>\n      <td>40.64749</td>\n      <td>-73.97237</td>\n      <td>United States</td>\n      <td>US</td>\n      <td>0</td>\n      <td>strict</td>\n      <td>Private room</td>\n      <td>2020</td>\n      <td>966</td>\n      <td>$193</td>\n      <td>10.0</td>\n      <td>9.0</td>\n    </tr>\n    <tr>\n      <th>1</th>\n      <td>1</td>\n      <td>Skylit Midtown Castle</td>\n      <td>52335172823</td>\n      <td>VERIFIED</td>\n      <td>Jenna</td>\n      <td>Manhattan</td>\n      <td>Midtown</td>\n      <td>40.75362</td>\n      <td>-73.98377</td>\n      <td>United States</td>\n      <td>US</td>\n      <td>0</td>\n      <td>moderate</td>\n      <td>Entire home/apt</td>\n      <td>2007</td>\n      <td>142</td>\n      <td>$28</td>\n      <td>30.0</td>\n      <td>45.0</td>\n    </tr>\n    <tr>\n      <th>2</th>\n      <td>4</td>\n      <td>Entire Apt: Spacious Studio/Loft by central park</td>\n      <td>92037596077</td>\n      <td>VERIFIED</td>\n      <td>Lyndon</td>\n      <td>Manhattan</td>\n      <td>East Harlem</td>\n      <td>40.79851</td>\n      <td>-73.94399</td>\n      <td>United States</td>\n      <td>US</td>\n      <td>0</td>\n      <td>moderate</td>\n      <td>Entire home/apt</td>\n      <td>2009</td>\n      <td>204</td>\n      <td>$41</td>\n      <td>10.0</td>\n      <td>9.0</td>\n    </tr>\n    <tr>\n      <th>3</th>\n      <td>5</td>\n      <td>Large Cozy 1 BR Apartment In Midtown East</td>\n      <td>45498551794</td>\n      <td>VERIFIED</td>\n      <td>Michelle</td>\n      <td>Manhattan</td>\n      <td>Murray Hill</td>\n      <td>40.74767</td>\n      <td>-73.97500</td>\n      <td>United States</td>\n      <td>US</td>\n      <td>1</td>\n      <td>flexible</td>\n      <td>Entire home/apt</td>\n      <td>2013</td>\n      <td>577</td>\n      <td>$115</td>\n      <td>3.0</td>\n      <td>74.0</td>\n    </tr>\n    <tr>\n      <th>4</th>\n      <td>7</td>\n      <td>BlissArtsSpace!</td>\n      <td>90821839709</td>\n      <td>UNCONFIRMED</td>\n      <td>Emma</td>\n      <td>Brooklyn</td>\n      <td>Bedford-Stuyvesant</td>\n      <td>40.68688</td>\n      <td>-73.95596</td>\n      <td>United States</td>\n      <td>US</td>\n      <td>0</td>\n      <td>moderate</td>\n      <td>Private room</td>\n      <td>2009</td>\n      <td>1060</td>\n      <td>$212</td>\n      <td>45.0</td>\n      <td>49.0</td>\n    </tr>\n    <tr>\n      <th>...</th>\n      <td>...</td>\n      <td>...</td>\n      <td>...</td>\n      <td>...</td>\n      <td>...</td>\n      <td>...</td>\n      <td>...</td>\n      <td>...</td>\n      <td>...</td>\n      <td>...</td>\n      <td>...</td>\n      <td>...</td>\n      <td>...</td>\n      <td>...</td>\n      <td>...</td>\n      <td>...</td>\n      <td>...</td>\n      <td>...</td>\n      <td>...</td>\n    </tr>\n    <tr>\n      <th>99337</th>\n      <td>102029</td>\n      <td>Cozy room in a 2B with backyard access</td>\n      <td>5155155913</td>\n      <td>UNCONFIRMED</td>\n      <td>Cristina</td>\n      <td>Queens</td>\n      <td>Astoria</td>\n      <td>40.76987</td>\n      <td>-73.92679</td>\n      <td>United States</td>\n      <td>US</td>\n      <td>0</td>\n      <td>flexible</td>\n      <td>Private room</td>\n      <td>2018</td>\n      <td>822</td>\n      <td>$164</td>\n      <td>1.0</td>\n      <td>9.0</td>\n    </tr>\n    <tr>\n      <th>99338</th>\n      <td>102030</td>\n      <td>An East Williamsburg Delight</td>\n      <td>71564706996</td>\n      <td>VERIFIED</td>\n      <td>Petra</td>\n      <td>Brooklyn</td>\n      <td>Bedford-Stuyvesant</td>\n      <td>40.68335</td>\n      <td>-73.91222</td>\n      <td>United States</td>\n      <td>US</td>\n      <td>1</td>\n      <td>moderate</td>\n      <td>Private room</td>\n      <td>2015</td>\n      <td>455</td>\n      <td>$91</td>\n      <td>4.0</td>\n      <td>36.0</td>\n    </tr>\n    <tr>\n      <th>99339</th>\n      <td>102031</td>\n      <td>Cozy bedroom in williamsburg</td>\n      <td>83101851929</td>\n      <td>VERIFIED</td>\n      <td>Russell</td>\n      <td>Brooklyn</td>\n      <td>Williamsburg</td>\n      <td>40.70870</td>\n      <td>-73.96710</td>\n      <td>United States</td>\n      <td>US</td>\n      <td>1</td>\n      <td>flexible</td>\n      <td>Private room</td>\n      <td>2020</td>\n      <td>1078</td>\n      <td>$216</td>\n      <td>1.0</td>\n      <td>58.0</td>\n    </tr>\n    <tr>\n      <th>99340</th>\n      <td>102032</td>\n      <td>Spacious Room w/ 2 Bed</td>\n      <td>69037598918</td>\n      <td>UNCONFIRMED</td>\n      <td>Christine</td>\n      <td>Queens</td>\n      <td>Bayside</td>\n      <td>40.75047</td>\n      <td>-73.75349</td>\n      <td>United States</td>\n      <td>US</td>\n      <td>0</td>\n      <td>moderate</td>\n      <td>Private room</td>\n      <td>2007</td>\n      <td>103</td>\n      <td>$21</td>\n      <td>7.0</td>\n      <td>40.0</td>\n    </tr>\n    <tr>\n      <th>99341</th>\n      <td>102040</td>\n      <td>Room in Queens, NY, near LGA.</td>\n      <td>56457739998</td>\n      <td>VERIFIED</td>\n      <td>Sonia</td>\n      <td>Queens</td>\n      <td>East Elmhurst</td>\n      <td>40.76245</td>\n      <td>-73.87938</td>\n      <td>United States</td>\n      <td>US</td>\n      <td>1</td>\n      <td>strict</td>\n      <td>Private room</td>\n      <td>2022</td>\n      <td>982</td>\n      <td>$196</td>\n      <td>1.0</td>\n      <td>239.0</td>\n    </tr>\n  </tbody>\n</table>\n<p>99342 rows × 19 columns</p>\n</div>"
     },
     "execution_count": 75,
     "metadata": {},
     "output_type": "execute_result"
    }
   ],
   "source": [
    "data"
   ],
   "metadata": {
    "collapsed": false,
    "ExecuteTime": {
     "end_time": "2025-03-28T08:08:58.476557Z",
     "start_time": "2025-03-28T08:08:58.437096Z"
    }
   },
   "id": "ad664363a226d060",
   "execution_count": 75
  },
  {
   "cell_type": "code",
   "outputs": [],
   "source": [
    "data[\"neighbourhood_group\"] = data[\"neighbourhood_group\"].str.capitalize()"
   ],
   "metadata": {
    "collapsed": false,
    "ExecuteTime": {
     "end_time": "2025-03-28T08:12:17.149927Z",
     "start_time": "2025-03-28T08:12:17.107770Z"
    }
   },
   "id": "a63e1762e0e53e74",
   "execution_count": 84
  },
  {
   "cell_type": "code",
   "outputs": [],
   "source": [
    "data[\"host_name\"] = data[\"host_name\"].str.capitalize()"
   ],
   "metadata": {
    "collapsed": false,
    "ExecuteTime": {
     "end_time": "2025-03-28T08:15:31.628111Z",
     "start_time": "2025-03-28T08:15:31.585683Z"
    }
   },
   "id": "8b83dbe3504a4ec",
   "execution_count": 93
  },
  {
   "cell_type": "code",
   "outputs": [
    {
     "ename": "AttributeError",
     "evalue": "Can only use .str accessor with string values!",
     "output_type": "error",
     "traceback": [
      "\u001B[31m---------------------------------------------------------------------------\u001B[39m",
      "\u001B[31mAttributeError\u001B[39m                            Traceback (most recent call last)",
      "\u001B[36mCell\u001B[39m\u001B[36m \u001B[39m\u001B[32mIn[103]\u001B[39m\u001B[32m, line 1\u001B[39m\n\u001B[32m----> \u001B[39m\u001B[32m1\u001B[39m data[\u001B[33m\"\u001B[39m\u001B[33mservice_fee\u001B[39m\u001B[33m\"\u001B[39m] = \u001B[43mdata\u001B[49m\u001B[43m[\u001B[49m\u001B[33;43m\"\u001B[39;49m\u001B[33;43mservice_fee\u001B[39;49m\u001B[33;43m\"\u001B[39;49m\u001B[43m]\u001B[49m\u001B[43m.\u001B[49m\u001B[43mstr\u001B[49m.replace(\u001B[33m'\u001B[39m\u001B[33m$\u001B[39m\u001B[33m'\u001B[39m, \u001B[33m'\u001B[39m\u001B[33m'\u001B[39m)\n\u001B[32m      2\u001B[39m data[\u001B[33m\"\u001B[39m\u001B[33mservice_fee\u001B[39m\u001B[33m\"\u001B[39m] = data[\u001B[33m\"\u001B[39m\u001B[33mservice_fee\u001B[39m\u001B[33m\"\u001B[39m].str.replace(\u001B[33m'\u001B[39m\u001B[33m,\u001B[39m\u001B[33m'\u001B[39m, \u001B[33m'\u001B[39m\u001B[33m'\u001B[39m)\n\u001B[32m      3\u001B[39m data[\u001B[33m\"\u001B[39m\u001B[33mservice_fee\u001B[39m\u001B[33m\"\u001B[39m] = data[\u001B[33m\"\u001B[39m\u001B[33mservice_fee\u001B[39m\u001B[33m\"\u001B[39m].astype(\u001B[38;5;28mint\u001B[39m)\n",
      "\u001B[36mFile \u001B[39m\u001B[32m~\\PycharmProjects\\pythonProject5\\.venv\\Lib\\site-packages\\pandas\\core\\generic.py:6299\u001B[39m, in \u001B[36mNDFrame.__getattr__\u001B[39m\u001B[34m(self, name)\u001B[39m\n\u001B[32m   6292\u001B[39m \u001B[38;5;28;01mif\u001B[39;00m (\n\u001B[32m   6293\u001B[39m     name \u001B[38;5;129;01mnot\u001B[39;00m \u001B[38;5;129;01min\u001B[39;00m \u001B[38;5;28mself\u001B[39m._internal_names_set\n\u001B[32m   6294\u001B[39m     \u001B[38;5;129;01mand\u001B[39;00m name \u001B[38;5;129;01mnot\u001B[39;00m \u001B[38;5;129;01min\u001B[39;00m \u001B[38;5;28mself\u001B[39m._metadata\n\u001B[32m   6295\u001B[39m     \u001B[38;5;129;01mand\u001B[39;00m name \u001B[38;5;129;01mnot\u001B[39;00m \u001B[38;5;129;01min\u001B[39;00m \u001B[38;5;28mself\u001B[39m._accessors\n\u001B[32m   6296\u001B[39m     \u001B[38;5;129;01mand\u001B[39;00m \u001B[38;5;28mself\u001B[39m._info_axis._can_hold_identifiers_and_holds_name(name)\n\u001B[32m   6297\u001B[39m ):\n\u001B[32m   6298\u001B[39m     \u001B[38;5;28;01mreturn\u001B[39;00m \u001B[38;5;28mself\u001B[39m[name]\n\u001B[32m-> \u001B[39m\u001B[32m6299\u001B[39m \u001B[38;5;28;01mreturn\u001B[39;00m \u001B[38;5;28;43mobject\u001B[39;49m\u001B[43m.\u001B[49m\u001B[34;43m__getattribute__\u001B[39;49m\u001B[43m(\u001B[49m\u001B[38;5;28;43mself\u001B[39;49m\u001B[43m,\u001B[49m\u001B[43m \u001B[49m\u001B[43mname\u001B[49m\u001B[43m)\u001B[49m\n",
      "\u001B[36mFile \u001B[39m\u001B[32m~\\PycharmProjects\\pythonProject5\\.venv\\Lib\\site-packages\\pandas\\core\\accessor.py:224\u001B[39m, in \u001B[36mCachedAccessor.__get__\u001B[39m\u001B[34m(self, obj, cls)\u001B[39m\n\u001B[32m    221\u001B[39m \u001B[38;5;28;01mif\u001B[39;00m obj \u001B[38;5;129;01mis\u001B[39;00m \u001B[38;5;28;01mNone\u001B[39;00m:\n\u001B[32m    222\u001B[39m     \u001B[38;5;66;03m# we're accessing the attribute of the class, i.e., Dataset.geo\u001B[39;00m\n\u001B[32m    223\u001B[39m     \u001B[38;5;28;01mreturn\u001B[39;00m \u001B[38;5;28mself\u001B[39m._accessor\n\u001B[32m--> \u001B[39m\u001B[32m224\u001B[39m accessor_obj = \u001B[38;5;28;43mself\u001B[39;49m\u001B[43m.\u001B[49m\u001B[43m_accessor\u001B[49m\u001B[43m(\u001B[49m\u001B[43mobj\u001B[49m\u001B[43m)\u001B[49m\n\u001B[32m    225\u001B[39m \u001B[38;5;66;03m# Replace the property with the accessor object. Inspired by:\u001B[39;00m\n\u001B[32m    226\u001B[39m \u001B[38;5;66;03m# https://www.pydanny.com/cached-property.html\u001B[39;00m\n\u001B[32m    227\u001B[39m \u001B[38;5;66;03m# We need to use object.__setattr__ because we overwrite __setattr__ on\u001B[39;00m\n\u001B[32m    228\u001B[39m \u001B[38;5;66;03m# NDFrame\u001B[39;00m\n\u001B[32m    229\u001B[39m \u001B[38;5;28mobject\u001B[39m.\u001B[34m__setattr__\u001B[39m(obj, \u001B[38;5;28mself\u001B[39m._name, accessor_obj)\n",
      "\u001B[36mFile \u001B[39m\u001B[32m~\\PycharmProjects\\pythonProject5\\.venv\\Lib\\site-packages\\pandas\\core\\strings\\accessor.py:191\u001B[39m, in \u001B[36mStringMethods.__init__\u001B[39m\u001B[34m(self, data)\u001B[39m\n\u001B[32m    188\u001B[39m \u001B[38;5;28;01mdef\u001B[39;00m\u001B[38;5;250m \u001B[39m\u001B[34m__init__\u001B[39m(\u001B[38;5;28mself\u001B[39m, data) -> \u001B[38;5;28;01mNone\u001B[39;00m:\n\u001B[32m    189\u001B[39m     \u001B[38;5;28;01mfrom\u001B[39;00m\u001B[38;5;250m \u001B[39m\u001B[34;01mpandas\u001B[39;00m\u001B[34;01m.\u001B[39;00m\u001B[34;01mcore\u001B[39;00m\u001B[34;01m.\u001B[39;00m\u001B[34;01marrays\u001B[39;00m\u001B[34;01m.\u001B[39;00m\u001B[34;01mstring_\u001B[39;00m\u001B[38;5;250m \u001B[39m\u001B[38;5;28;01mimport\u001B[39;00m StringDtype\n\u001B[32m--> \u001B[39m\u001B[32m191\u001B[39m     \u001B[38;5;28mself\u001B[39m._inferred_dtype = \u001B[38;5;28;43mself\u001B[39;49m\u001B[43m.\u001B[49m\u001B[43m_validate\u001B[49m\u001B[43m(\u001B[49m\u001B[43mdata\u001B[49m\u001B[43m)\u001B[49m\n\u001B[32m    192\u001B[39m     \u001B[38;5;28mself\u001B[39m._is_categorical = \u001B[38;5;28misinstance\u001B[39m(data.dtype, CategoricalDtype)\n\u001B[32m    193\u001B[39m     \u001B[38;5;28mself\u001B[39m._is_string = \u001B[38;5;28misinstance\u001B[39m(data.dtype, StringDtype)\n",
      "\u001B[36mFile \u001B[39m\u001B[32m~\\PycharmProjects\\pythonProject5\\.venv\\Lib\\site-packages\\pandas\\core\\strings\\accessor.py:245\u001B[39m, in \u001B[36mStringMethods._validate\u001B[39m\u001B[34m(data)\u001B[39m\n\u001B[32m    242\u001B[39m inferred_dtype = lib.infer_dtype(values, skipna=\u001B[38;5;28;01mTrue\u001B[39;00m)\n\u001B[32m    244\u001B[39m \u001B[38;5;28;01mif\u001B[39;00m inferred_dtype \u001B[38;5;129;01mnot\u001B[39;00m \u001B[38;5;129;01min\u001B[39;00m allowed_types:\n\u001B[32m--> \u001B[39m\u001B[32m245\u001B[39m     \u001B[38;5;28;01mraise\u001B[39;00m \u001B[38;5;167;01mAttributeError\u001B[39;00m(\u001B[33m\"\u001B[39m\u001B[33mCan only use .str accessor with string values!\u001B[39m\u001B[33m\"\u001B[39m)\n\u001B[32m    246\u001B[39m \u001B[38;5;28;01mreturn\u001B[39;00m inferred_dtype\n",
      "\u001B[31mAttributeError\u001B[39m: Can only use .str accessor with string values!"
     ]
    }
   ],
   "source": [
    "data[\"service_fee\"] = data[\"service_fee\"].str.replace('$', '')\n",
    "data[\"service_fee\"] = data[\"service_fee\"].str.replace(',', '')\n",
    "data[\"service_fee\"] = data[\"service_fee\"].astype(int)"
   ],
   "metadata": {
    "collapsed": false,
    "ExecuteTime": {
     "end_time": "2025-03-28T08:19:29.043245Z",
     "start_time": "2025-03-28T08:19:27.951418Z"
    }
   },
   "id": "ba51bedc7c54163e",
   "execution_count": 103
  },
  {
   "cell_type": "code",
   "outputs": [
    {
     "data": {
      "text/plain": "numpy.int64"
     },
     "execution_count": 104,
     "metadata": {},
     "output_type": "execute_result"
    }
   ],
   "source": [
    "type(data[\"service_fee\"][0])"
   ],
   "metadata": {
    "collapsed": false,
    "ExecuteTime": {
     "end_time": "2025-03-28T08:19:43.978004Z",
     "start_time": "2025-03-28T08:19:43.969359Z"
    }
   },
   "id": "759b380f6668d440",
   "execution_count": 104
  },
  {
   "cell_type": "code",
   "outputs": [],
   "source": [
    "data[\"minimum_nights\"] = data[\"minimum_nights\"].astype(int)\n",
    "data[\"number_of_reviews\"] = data[\"number_of_reviews\"].astype(int)"
   ],
   "metadata": {
    "collapsed": false,
    "ExecuteTime": {
     "end_time": "2025-03-28T08:20:45.505057Z",
     "start_time": "2025-03-28T08:20:45.498324Z"
    }
   },
   "id": "7ad77f05e7f669ee",
   "execution_count": 106
  },
  {
   "cell_type": "code",
   "outputs": [
    {
     "data": {
      "text/plain": "        index                                              name      host_id  \\\n0           0                Clean & quiet apt home by the park  80014485718   \n1           1                             Skylit Midtown Castle  52335172823   \n2           4  Entire Apt: Spacious Studio/Loft by central park  92037596077   \n3           5         Large Cozy 1 BR Apartment In Midtown East  45498551794   \n4           7                                   BlissArtsSpace!  90821839709   \n...       ...                                               ...          ...   \n99337  102029            Cozy room in a 2B with backyard access   5155155913   \n99338  102030                      An East Williamsburg Delight  71564706996   \n99339  102031                      Cozy bedroom in williamsburg  83101851929   \n99340  102032                            Spacious Room w/ 2 Bed  69037598918   \n99341  102040                     Room in Queens, NY, near LGA.  56457739998   \n\n      host_identity_verified  host_name neighbourhood_group  \\\n0                UNCONFIRMED   Madaline            Brooklyn   \n1                   VERIFIED      Jenna           Manhattan   \n2                   VERIFIED     Lyndon           Manhattan   \n3                   VERIFIED   Michelle           Manhattan   \n4                UNCONFIRMED       Emma            Brooklyn   \n...                      ...        ...                 ...   \n99337            UNCONFIRMED   Cristina              Queens   \n99338               VERIFIED      Petra            Brooklyn   \n99339               VERIFIED    Russell            Brooklyn   \n99340            UNCONFIRMED  Christine              Queens   \n99341               VERIFIED      Sonia              Queens   \n\n            neighbourhood       lat      long        country country_code  \\\n0              Kensington  40.64749 -73.97237  United States           US   \n1                 Midtown  40.75362 -73.98377  United States           US   \n2             East Harlem  40.79851 -73.94399  United States           US   \n3             Murray Hill  40.74767 -73.97500  United States           US   \n4      Bedford-Stuyvesant  40.68688 -73.95596  United States           US   \n...                   ...       ...       ...            ...          ...   \n99337             Astoria  40.76987 -73.92679  United States           US   \n99338  Bedford-Stuyvesant  40.68335 -73.91222  United States           US   \n99339        Williamsburg  40.70870 -73.96710  United States           US   \n99340             Bayside  40.75047 -73.75349  United States           US   \n99341       East Elmhurst  40.76245 -73.87938  United States           US   \n\n       instant_bookable cancellation_policy        room_type  \\\n0                     0              strict     Private room   \n1                     0            moderate  Entire home/apt   \n2                     0            moderate  Entire home/apt   \n3                     1            flexible  Entire home/apt   \n4                     0            moderate     Private room   \n...                 ...                 ...              ...   \n99337                 0            flexible     Private room   \n99338                 1            moderate     Private room   \n99339                 1            flexible     Private room   \n99340                 0            moderate     Private room   \n99341                 1              strict     Private room   \n\n       construction_year  price  service_fee  minimum_nights  \\\n0                   2020    966          193              10   \n1                   2007    142           28              30   \n2                   2009    204           41              10   \n3                   2013    577          115               3   \n4                   2009   1060          212              45   \n...                  ...    ...          ...             ...   \n99337               2018    822          164               1   \n99338               2015    455           91               4   \n99339               2020   1078          216               1   \n99340               2007    103           21               7   \n99341               2022    982          196               1   \n\n       number_of_reviews  \n0                      9  \n1                     45  \n2                      9  \n3                     74  \n4                     49  \n...                  ...  \n99337                  9  \n99338                 36  \n99339                 58  \n99340                 40  \n99341                239  \n\n[99342 rows x 19 columns]",
      "text/html": "<div>\n<style scoped>\n    .dataframe tbody tr th:only-of-type {\n        vertical-align: middle;\n    }\n\n    .dataframe tbody tr th {\n        vertical-align: top;\n    }\n\n    .dataframe thead th {\n        text-align: right;\n    }\n</style>\n<table border=\"1\" class=\"dataframe\">\n  <thead>\n    <tr style=\"text-align: right;\">\n      <th></th>\n      <th>index</th>\n      <th>name</th>\n      <th>host_id</th>\n      <th>host_identity_verified</th>\n      <th>host_name</th>\n      <th>neighbourhood_group</th>\n      <th>neighbourhood</th>\n      <th>lat</th>\n      <th>long</th>\n      <th>country</th>\n      <th>country_code</th>\n      <th>instant_bookable</th>\n      <th>cancellation_policy</th>\n      <th>room_type</th>\n      <th>construction_year</th>\n      <th>price</th>\n      <th>service_fee</th>\n      <th>minimum_nights</th>\n      <th>number_of_reviews</th>\n    </tr>\n  </thead>\n  <tbody>\n    <tr>\n      <th>0</th>\n      <td>0</td>\n      <td>Clean &amp; quiet apt home by the park</td>\n      <td>80014485718</td>\n      <td>UNCONFIRMED</td>\n      <td>Madaline</td>\n      <td>Brooklyn</td>\n      <td>Kensington</td>\n      <td>40.64749</td>\n      <td>-73.97237</td>\n      <td>United States</td>\n      <td>US</td>\n      <td>0</td>\n      <td>strict</td>\n      <td>Private room</td>\n      <td>2020</td>\n      <td>966</td>\n      <td>193</td>\n      <td>10</td>\n      <td>9</td>\n    </tr>\n    <tr>\n      <th>1</th>\n      <td>1</td>\n      <td>Skylit Midtown Castle</td>\n      <td>52335172823</td>\n      <td>VERIFIED</td>\n      <td>Jenna</td>\n      <td>Manhattan</td>\n      <td>Midtown</td>\n      <td>40.75362</td>\n      <td>-73.98377</td>\n      <td>United States</td>\n      <td>US</td>\n      <td>0</td>\n      <td>moderate</td>\n      <td>Entire home/apt</td>\n      <td>2007</td>\n      <td>142</td>\n      <td>28</td>\n      <td>30</td>\n      <td>45</td>\n    </tr>\n    <tr>\n      <th>2</th>\n      <td>4</td>\n      <td>Entire Apt: Spacious Studio/Loft by central park</td>\n      <td>92037596077</td>\n      <td>VERIFIED</td>\n      <td>Lyndon</td>\n      <td>Manhattan</td>\n      <td>East Harlem</td>\n      <td>40.79851</td>\n      <td>-73.94399</td>\n      <td>United States</td>\n      <td>US</td>\n      <td>0</td>\n      <td>moderate</td>\n      <td>Entire home/apt</td>\n      <td>2009</td>\n      <td>204</td>\n      <td>41</td>\n      <td>10</td>\n      <td>9</td>\n    </tr>\n    <tr>\n      <th>3</th>\n      <td>5</td>\n      <td>Large Cozy 1 BR Apartment In Midtown East</td>\n      <td>45498551794</td>\n      <td>VERIFIED</td>\n      <td>Michelle</td>\n      <td>Manhattan</td>\n      <td>Murray Hill</td>\n      <td>40.74767</td>\n      <td>-73.97500</td>\n      <td>United States</td>\n      <td>US</td>\n      <td>1</td>\n      <td>flexible</td>\n      <td>Entire home/apt</td>\n      <td>2013</td>\n      <td>577</td>\n      <td>115</td>\n      <td>3</td>\n      <td>74</td>\n    </tr>\n    <tr>\n      <th>4</th>\n      <td>7</td>\n      <td>BlissArtsSpace!</td>\n      <td>90821839709</td>\n      <td>UNCONFIRMED</td>\n      <td>Emma</td>\n      <td>Brooklyn</td>\n      <td>Bedford-Stuyvesant</td>\n      <td>40.68688</td>\n      <td>-73.95596</td>\n      <td>United States</td>\n      <td>US</td>\n      <td>0</td>\n      <td>moderate</td>\n      <td>Private room</td>\n      <td>2009</td>\n      <td>1060</td>\n      <td>212</td>\n      <td>45</td>\n      <td>49</td>\n    </tr>\n    <tr>\n      <th>...</th>\n      <td>...</td>\n      <td>...</td>\n      <td>...</td>\n      <td>...</td>\n      <td>...</td>\n      <td>...</td>\n      <td>...</td>\n      <td>...</td>\n      <td>...</td>\n      <td>...</td>\n      <td>...</td>\n      <td>...</td>\n      <td>...</td>\n      <td>...</td>\n      <td>...</td>\n      <td>...</td>\n      <td>...</td>\n      <td>...</td>\n      <td>...</td>\n    </tr>\n    <tr>\n      <th>99337</th>\n      <td>102029</td>\n      <td>Cozy room in a 2B with backyard access</td>\n      <td>5155155913</td>\n      <td>UNCONFIRMED</td>\n      <td>Cristina</td>\n      <td>Queens</td>\n      <td>Astoria</td>\n      <td>40.76987</td>\n      <td>-73.92679</td>\n      <td>United States</td>\n      <td>US</td>\n      <td>0</td>\n      <td>flexible</td>\n      <td>Private room</td>\n      <td>2018</td>\n      <td>822</td>\n      <td>164</td>\n      <td>1</td>\n      <td>9</td>\n    </tr>\n    <tr>\n      <th>99338</th>\n      <td>102030</td>\n      <td>An East Williamsburg Delight</td>\n      <td>71564706996</td>\n      <td>VERIFIED</td>\n      <td>Petra</td>\n      <td>Brooklyn</td>\n      <td>Bedford-Stuyvesant</td>\n      <td>40.68335</td>\n      <td>-73.91222</td>\n      <td>United States</td>\n      <td>US</td>\n      <td>1</td>\n      <td>moderate</td>\n      <td>Private room</td>\n      <td>2015</td>\n      <td>455</td>\n      <td>91</td>\n      <td>4</td>\n      <td>36</td>\n    </tr>\n    <tr>\n      <th>99339</th>\n      <td>102031</td>\n      <td>Cozy bedroom in williamsburg</td>\n      <td>83101851929</td>\n      <td>VERIFIED</td>\n      <td>Russell</td>\n      <td>Brooklyn</td>\n      <td>Williamsburg</td>\n      <td>40.70870</td>\n      <td>-73.96710</td>\n      <td>United States</td>\n      <td>US</td>\n      <td>1</td>\n      <td>flexible</td>\n      <td>Private room</td>\n      <td>2020</td>\n      <td>1078</td>\n      <td>216</td>\n      <td>1</td>\n      <td>58</td>\n    </tr>\n    <tr>\n      <th>99340</th>\n      <td>102032</td>\n      <td>Spacious Room w/ 2 Bed</td>\n      <td>69037598918</td>\n      <td>UNCONFIRMED</td>\n      <td>Christine</td>\n      <td>Queens</td>\n      <td>Bayside</td>\n      <td>40.75047</td>\n      <td>-73.75349</td>\n      <td>United States</td>\n      <td>US</td>\n      <td>0</td>\n      <td>moderate</td>\n      <td>Private room</td>\n      <td>2007</td>\n      <td>103</td>\n      <td>21</td>\n      <td>7</td>\n      <td>40</td>\n    </tr>\n    <tr>\n      <th>99341</th>\n      <td>102040</td>\n      <td>Room in Queens, NY, near LGA.</td>\n      <td>56457739998</td>\n      <td>VERIFIED</td>\n      <td>Sonia</td>\n      <td>Queens</td>\n      <td>East Elmhurst</td>\n      <td>40.76245</td>\n      <td>-73.87938</td>\n      <td>United States</td>\n      <td>US</td>\n      <td>1</td>\n      <td>strict</td>\n      <td>Private room</td>\n      <td>2022</td>\n      <td>982</td>\n      <td>196</td>\n      <td>1</td>\n      <td>239</td>\n    </tr>\n  </tbody>\n</table>\n<p>99342 rows × 19 columns</p>\n</div>"
     },
     "execution_count": 107,
     "metadata": {},
     "output_type": "execute_result"
    }
   ],
   "source": [
    "data"
   ],
   "metadata": {
    "collapsed": false,
    "ExecuteTime": {
     "end_time": "2025-03-28T08:20:50.377588Z",
     "start_time": "2025-03-28T08:20:50.356145Z"
    }
   },
   "id": "fd3658b8eb0c350c",
   "execution_count": 107
  },
  {
   "cell_type": "code",
   "outputs": [
    {
     "data": {
      "text/plain": "array(['UNCONFIRMED', 'VERIFIED'], dtype=object)"
     },
     "execution_count": 108,
     "metadata": {},
     "output_type": "execute_result"
    }
   ],
   "source": [
    "data[\"host_identity_verified\"].unique()"
   ],
   "metadata": {
    "collapsed": false,
    "ExecuteTime": {
     "end_time": "2025-03-28T08:21:59.211869Z",
     "start_time": "2025-03-28T08:21:59.198009Z"
    }
   },
   "id": "13b5b093b55ceec8",
   "execution_count": 108
  },
  {
   "cell_type": "code",
   "outputs": [],
   "source": [
    "data[\"host_identity_verified\"] = data[\"host_identity_verified\"].apply(lambda x: 1 if x == \"UNCONFIRMED\" else 0)"
   ],
   "metadata": {
    "collapsed": false,
    "ExecuteTime": {
     "end_time": "2025-03-28T08:23:10.291652Z",
     "start_time": "2025-03-28T08:23:10.225551Z"
    }
   },
   "id": "5ea984dea438a270",
   "execution_count": 110
  },
  {
   "cell_type": "code",
   "outputs": [
    {
     "data": {
      "text/plain": "np.int64(5645)"
     },
     "execution_count": 118,
     "metadata": {},
     "output_type": "execute_result"
    }
   ],
   "source": [
    "data[\"minimum_nights\"].max()"
   ],
   "metadata": {
    "collapsed": false,
    "ExecuteTime": {
     "end_time": "2025-03-28T08:34:33.443957Z",
     "start_time": "2025-03-28T08:34:33.433623Z"
    }
   },
   "id": "5ddfde2751f4a34e",
   "execution_count": 118
  },
  {
   "cell_type": "code",
   "outputs": [
    {
     "data": {
      "text/plain": "minimum_nights\nFalse    98950\nTrue       392\nName: count, dtype: int64"
     },
     "execution_count": 125,
     "metadata": {},
     "output_type": "execute_result"
    }
   ],
   "source": [
    "negatives = data[\"minimum_nights\"] >= 100\n",
    "negatives.value_counts()\n"
   ],
   "metadata": {
    "collapsed": false,
    "ExecuteTime": {
     "end_time": "2025-03-28T08:41:36.879999Z",
     "start_time": "2025-03-28T08:41:36.870053Z"
    }
   },
   "id": "ded7b0b49b3392cc",
   "execution_count": 125
  },
  {
   "cell_type": "code",
   "outputs": [],
   "source": [
    "# Replace negatives with 1 and cap unrealistic values at 30 nights\n",
    "data[\"minimum_nights\"] = data[\"minimum_nights\"].clip(lower=1, upper=30)"
   ],
   "metadata": {
    "collapsed": false,
    "ExecuteTime": {
     "end_time": "2025-03-28T08:45:33.152915Z",
     "start_time": "2025-03-28T08:45:33.142646Z"
    }
   },
   "id": "b330ef93ce940f5c",
   "execution_count": 127
  },
  {
   "cell_type": "code",
   "outputs": [
    {
     "data": {
      "text/plain": "0        10\n1        30\n2        10\n3         3\n4        30\n         ..\n99337     1\n99338     4\n99339     1\n99340     7\n99341     1\nName: minimum_nights, Length: 99342, dtype: int64"
     },
     "execution_count": 128,
     "metadata": {},
     "output_type": "execute_result"
    }
   ],
   "source": [
    "data[\"minimum_nights\"]"
   ],
   "metadata": {
    "collapsed": false,
    "ExecuteTime": {
     "end_time": "2025-03-28T08:45:40.377662Z",
     "start_time": "2025-03-28T08:45:40.370371Z"
    }
   },
   "id": "5248030565200637",
   "execution_count": 128
  },
  {
   "cell_type": "code",
   "outputs": [
    {
     "data": {
      "text/plain": "                                                   name      host_id  \\\n0                    Clean & quiet apt home by the park  80014485718   \n1                                 Skylit Midtown Castle  52335172823   \n2      Entire Apt: Spacious Studio/Loft by central park  92037596077   \n3             Large Cozy 1 BR Apartment In Midtown East  45498551794   \n4                                       BlissArtsSpace!  90821839709   \n...                                                 ...          ...   \n99337            Cozy room in a 2B with backyard access   5155155913   \n99338                      An East Williamsburg Delight  71564706996   \n99339                      Cozy bedroom in williamsburg  83101851929   \n99340                            Spacious Room w/ 2 Bed  69037598918   \n99341                     Room in Queens, NY, near LGA.  56457739998   \n\n       host_identity_verified  host_name neighbourhood_group  \\\n0                           1   Madaline            Brooklyn   \n1                           0      Jenna           Manhattan   \n2                           0     Lyndon           Manhattan   \n3                           0   Michelle           Manhattan   \n4                           1       Emma            Brooklyn   \n...                       ...        ...                 ...   \n99337                       1   Cristina              Queens   \n99338                       0      Petra            Brooklyn   \n99339                       0    Russell            Brooklyn   \n99340                       1  Christine              Queens   \n99341                       0      Sonia              Queens   \n\n            neighbourhood       lat      long        country country_code  \\\n0              Kensington  40.64749 -73.97237  United States           US   \n1                 Midtown  40.75362 -73.98377  United States           US   \n2             East Harlem  40.79851 -73.94399  United States           US   \n3             Murray Hill  40.74767 -73.97500  United States           US   \n4      Bedford-Stuyvesant  40.68688 -73.95596  United States           US   \n...                   ...       ...       ...            ...          ...   \n99337             Astoria  40.76987 -73.92679  United States           US   \n99338  Bedford-Stuyvesant  40.68335 -73.91222  United States           US   \n99339        Williamsburg  40.70870 -73.96710  United States           US   \n99340             Bayside  40.75047 -73.75349  United States           US   \n99341       East Elmhurst  40.76245 -73.87938  United States           US   \n\n       instant_bookable cancellation_policy        room_type  \\\n0                     0              strict     Private room   \n1                     0            moderate  Entire home/apt   \n2                     0            moderate  Entire home/apt   \n3                     1            flexible  Entire home/apt   \n4                     0            moderate     Private room   \n...                 ...                 ...              ...   \n99337                 0            flexible     Private room   \n99338                 1            moderate     Private room   \n99339                 1            flexible     Private room   \n99340                 0            moderate     Private room   \n99341                 1              strict     Private room   \n\n       construction_year  price  service_fee  minimum_nights  \\\n0                   2020    966          193              10   \n1                   2007    142           28              30   \n2                   2009    204           41              10   \n3                   2013    577          115               3   \n4                   2009   1060          212              30   \n...                  ...    ...          ...             ...   \n99337               2018    822          164               1   \n99338               2015    455           91               4   \n99339               2020   1078          216               1   \n99340               2007    103           21               7   \n99341               2022    982          196               1   \n\n       number_of_reviews  \n0                      9  \n1                     45  \n2                      9  \n3                     74  \n4                     49  \n...                  ...  \n99337                  9  \n99338                 36  \n99339                 58  \n99340                 40  \n99341                239  \n\n[99342 rows x 18 columns]",
      "text/html": "<div>\n<style scoped>\n    .dataframe tbody tr th:only-of-type {\n        vertical-align: middle;\n    }\n\n    .dataframe tbody tr th {\n        vertical-align: top;\n    }\n\n    .dataframe thead th {\n        text-align: right;\n    }\n</style>\n<table border=\"1\" class=\"dataframe\">\n  <thead>\n    <tr style=\"text-align: right;\">\n      <th></th>\n      <th>name</th>\n      <th>host_id</th>\n      <th>host_identity_verified</th>\n      <th>host_name</th>\n      <th>neighbourhood_group</th>\n      <th>neighbourhood</th>\n      <th>lat</th>\n      <th>long</th>\n      <th>country</th>\n      <th>country_code</th>\n      <th>instant_bookable</th>\n      <th>cancellation_policy</th>\n      <th>room_type</th>\n      <th>construction_year</th>\n      <th>price</th>\n      <th>service_fee</th>\n      <th>minimum_nights</th>\n      <th>number_of_reviews</th>\n    </tr>\n  </thead>\n  <tbody>\n    <tr>\n      <th>0</th>\n      <td>Clean &amp; quiet apt home by the park</td>\n      <td>80014485718</td>\n      <td>1</td>\n      <td>Madaline</td>\n      <td>Brooklyn</td>\n      <td>Kensington</td>\n      <td>40.64749</td>\n      <td>-73.97237</td>\n      <td>United States</td>\n      <td>US</td>\n      <td>0</td>\n      <td>strict</td>\n      <td>Private room</td>\n      <td>2020</td>\n      <td>966</td>\n      <td>193</td>\n      <td>10</td>\n      <td>9</td>\n    </tr>\n    <tr>\n      <th>1</th>\n      <td>Skylit Midtown Castle</td>\n      <td>52335172823</td>\n      <td>0</td>\n      <td>Jenna</td>\n      <td>Manhattan</td>\n      <td>Midtown</td>\n      <td>40.75362</td>\n      <td>-73.98377</td>\n      <td>United States</td>\n      <td>US</td>\n      <td>0</td>\n      <td>moderate</td>\n      <td>Entire home/apt</td>\n      <td>2007</td>\n      <td>142</td>\n      <td>28</td>\n      <td>30</td>\n      <td>45</td>\n    </tr>\n    <tr>\n      <th>2</th>\n      <td>Entire Apt: Spacious Studio/Loft by central park</td>\n      <td>92037596077</td>\n      <td>0</td>\n      <td>Lyndon</td>\n      <td>Manhattan</td>\n      <td>East Harlem</td>\n      <td>40.79851</td>\n      <td>-73.94399</td>\n      <td>United States</td>\n      <td>US</td>\n      <td>0</td>\n      <td>moderate</td>\n      <td>Entire home/apt</td>\n      <td>2009</td>\n      <td>204</td>\n      <td>41</td>\n      <td>10</td>\n      <td>9</td>\n    </tr>\n    <tr>\n      <th>3</th>\n      <td>Large Cozy 1 BR Apartment In Midtown East</td>\n      <td>45498551794</td>\n      <td>0</td>\n      <td>Michelle</td>\n      <td>Manhattan</td>\n      <td>Murray Hill</td>\n      <td>40.74767</td>\n      <td>-73.97500</td>\n      <td>United States</td>\n      <td>US</td>\n      <td>1</td>\n      <td>flexible</td>\n      <td>Entire home/apt</td>\n      <td>2013</td>\n      <td>577</td>\n      <td>115</td>\n      <td>3</td>\n      <td>74</td>\n    </tr>\n    <tr>\n      <th>4</th>\n      <td>BlissArtsSpace!</td>\n      <td>90821839709</td>\n      <td>1</td>\n      <td>Emma</td>\n      <td>Brooklyn</td>\n      <td>Bedford-Stuyvesant</td>\n      <td>40.68688</td>\n      <td>-73.95596</td>\n      <td>United States</td>\n      <td>US</td>\n      <td>0</td>\n      <td>moderate</td>\n      <td>Private room</td>\n      <td>2009</td>\n      <td>1060</td>\n      <td>212</td>\n      <td>30</td>\n      <td>49</td>\n    </tr>\n    <tr>\n      <th>...</th>\n      <td>...</td>\n      <td>...</td>\n      <td>...</td>\n      <td>...</td>\n      <td>...</td>\n      <td>...</td>\n      <td>...</td>\n      <td>...</td>\n      <td>...</td>\n      <td>...</td>\n      <td>...</td>\n      <td>...</td>\n      <td>...</td>\n      <td>...</td>\n      <td>...</td>\n      <td>...</td>\n      <td>...</td>\n      <td>...</td>\n    </tr>\n    <tr>\n      <th>99337</th>\n      <td>Cozy room in a 2B with backyard access</td>\n      <td>5155155913</td>\n      <td>1</td>\n      <td>Cristina</td>\n      <td>Queens</td>\n      <td>Astoria</td>\n      <td>40.76987</td>\n      <td>-73.92679</td>\n      <td>United States</td>\n      <td>US</td>\n      <td>0</td>\n      <td>flexible</td>\n      <td>Private room</td>\n      <td>2018</td>\n      <td>822</td>\n      <td>164</td>\n      <td>1</td>\n      <td>9</td>\n    </tr>\n    <tr>\n      <th>99338</th>\n      <td>An East Williamsburg Delight</td>\n      <td>71564706996</td>\n      <td>0</td>\n      <td>Petra</td>\n      <td>Brooklyn</td>\n      <td>Bedford-Stuyvesant</td>\n      <td>40.68335</td>\n      <td>-73.91222</td>\n      <td>United States</td>\n      <td>US</td>\n      <td>1</td>\n      <td>moderate</td>\n      <td>Private room</td>\n      <td>2015</td>\n      <td>455</td>\n      <td>91</td>\n      <td>4</td>\n      <td>36</td>\n    </tr>\n    <tr>\n      <th>99339</th>\n      <td>Cozy bedroom in williamsburg</td>\n      <td>83101851929</td>\n      <td>0</td>\n      <td>Russell</td>\n      <td>Brooklyn</td>\n      <td>Williamsburg</td>\n      <td>40.70870</td>\n      <td>-73.96710</td>\n      <td>United States</td>\n      <td>US</td>\n      <td>1</td>\n      <td>flexible</td>\n      <td>Private room</td>\n      <td>2020</td>\n      <td>1078</td>\n      <td>216</td>\n      <td>1</td>\n      <td>58</td>\n    </tr>\n    <tr>\n      <th>99340</th>\n      <td>Spacious Room w/ 2 Bed</td>\n      <td>69037598918</td>\n      <td>1</td>\n      <td>Christine</td>\n      <td>Queens</td>\n      <td>Bayside</td>\n      <td>40.75047</td>\n      <td>-73.75349</td>\n      <td>United States</td>\n      <td>US</td>\n      <td>0</td>\n      <td>moderate</td>\n      <td>Private room</td>\n      <td>2007</td>\n      <td>103</td>\n      <td>21</td>\n      <td>7</td>\n      <td>40</td>\n    </tr>\n    <tr>\n      <th>99341</th>\n      <td>Room in Queens, NY, near LGA.</td>\n      <td>56457739998</td>\n      <td>0</td>\n      <td>Sonia</td>\n      <td>Queens</td>\n      <td>East Elmhurst</td>\n      <td>40.76245</td>\n      <td>-73.87938</td>\n      <td>United States</td>\n      <td>US</td>\n      <td>1</td>\n      <td>strict</td>\n      <td>Private room</td>\n      <td>2022</td>\n      <td>982</td>\n      <td>196</td>\n      <td>1</td>\n      <td>239</td>\n    </tr>\n  </tbody>\n</table>\n<p>99342 rows × 18 columns</p>\n</div>"
     },
     "execution_count": 144,
     "metadata": {},
     "output_type": "execute_result"
    }
   ],
   "source": [
    "data.drop(columns=['index', 'level_0'], errors='ignore', inplace=True)\n",
    "data"
   ],
   "metadata": {
    "collapsed": false,
    "ExecuteTime": {
     "end_time": "2025-03-28T08:59:00.318838Z",
     "start_time": "2025-03-28T08:59:00.285306Z"
    }
   },
   "id": "79d2ef3fcd0182c8",
   "execution_count": 144
  },
  {
   "cell_type": "markdown",
   "source": [],
   "metadata": {
    "collapsed": false
   },
   "id": "67baa0dd0b7cf299"
  },
  {
   "cell_type": "code",
   "outputs": [],
   "source": [
    "data.to_csv(\"data/airbnb_cleaned.csv\", index = False)"
   ],
   "metadata": {
    "collapsed": false,
    "ExecuteTime": {
     "end_time": "2025-03-28T09:04:19.091417Z",
     "start_time": "2025-03-28T09:04:17.159884Z"
    }
   },
   "id": "f6ac640171d53902",
   "execution_count": 147
  },
  {
   "cell_type": "code",
   "outputs": [
    {
     "data": {
      "text/plain": "                                                   name      host_id  \\\n0                    Clean & quiet apt home by the park  80014485718   \n1                                 Skylit Midtown Castle  52335172823   \n2      Entire Apt: Spacious Studio/Loft by central park  92037596077   \n3             Large Cozy 1 BR Apartment In Midtown East  45498551794   \n4                                       BlissArtsSpace!  90821839709   \n...                                                 ...          ...   \n99337            Cozy room in a 2B with backyard access   5155155913   \n99338                      An East Williamsburg Delight  71564706996   \n99339                      Cozy bedroom in williamsburg  83101851929   \n99340                            Spacious Room w/ 2 Bed  69037598918   \n99341                     Room in Queens, NY, near LGA.  56457739998   \n\n       host_identity_verified  host_name neighbourhood_group  \\\n0                           1   Madaline            Brooklyn   \n1                           0      Jenna           Manhattan   \n2                           0     Lyndon           Manhattan   \n3                           0   Michelle           Manhattan   \n4                           1       Emma            Brooklyn   \n...                       ...        ...                 ...   \n99337                       1   Cristina              Queens   \n99338                       0      Petra            Brooklyn   \n99339                       0    Russell            Brooklyn   \n99340                       1  Christine              Queens   \n99341                       0      Sonia              Queens   \n\n            neighbourhood       lat      long        country country_code  \\\n0              Kensington  40.64749 -73.97237  United States           US   \n1                 Midtown  40.75362 -73.98377  United States           US   \n2             East Harlem  40.79851 -73.94399  United States           US   \n3             Murray Hill  40.74767 -73.97500  United States           US   \n4      Bedford-Stuyvesant  40.68688 -73.95596  United States           US   \n...                   ...       ...       ...            ...          ...   \n99337             Astoria  40.76987 -73.92679  United States           US   \n99338  Bedford-Stuyvesant  40.68335 -73.91222  United States           US   \n99339        Williamsburg  40.70870 -73.96710  United States           US   \n99340             Bayside  40.75047 -73.75349  United States           US   \n99341       East Elmhurst  40.76245 -73.87938  United States           US   \n\n       instant_bookable cancellation_policy        room_type  \\\n0                     0              strict     Private room   \n1                     0            moderate  Entire home/apt   \n2                     0            moderate  Entire home/apt   \n3                     1            flexible  Entire home/apt   \n4                     0            moderate     Private room   \n...                 ...                 ...              ...   \n99337                 0            flexible     Private room   \n99338                 1            moderate     Private room   \n99339                 1            flexible     Private room   \n99340                 0            moderate     Private room   \n99341                 1              strict     Private room   \n\n       construction_year  price  service_fee  minimum_nights  \\\n0                   2020    966          193              10   \n1                   2007    142           28              30   \n2                   2009    204           41              10   \n3                   2013    577          115               3   \n4                   2009   1060          212              30   \n...                  ...    ...          ...             ...   \n99337               2018    822          164               1   \n99338               2015    455           91               4   \n99339               2020   1078          216               1   \n99340               2007    103           21               7   \n99341               2022    982          196               1   \n\n       number_of_reviews  \n0                      9  \n1                     45  \n2                      9  \n3                     74  \n4                     49  \n...                  ...  \n99337                  9  \n99338                 36  \n99339                 58  \n99340                 40  \n99341                239  \n\n[99342 rows x 18 columns]",
      "text/html": "<div>\n<style scoped>\n    .dataframe tbody tr th:only-of-type {\n        vertical-align: middle;\n    }\n\n    .dataframe tbody tr th {\n        vertical-align: top;\n    }\n\n    .dataframe thead th {\n        text-align: right;\n    }\n</style>\n<table border=\"1\" class=\"dataframe\">\n  <thead>\n    <tr style=\"text-align: right;\">\n      <th></th>\n      <th>name</th>\n      <th>host_id</th>\n      <th>host_identity_verified</th>\n      <th>host_name</th>\n      <th>neighbourhood_group</th>\n      <th>neighbourhood</th>\n      <th>lat</th>\n      <th>long</th>\n      <th>country</th>\n      <th>country_code</th>\n      <th>instant_bookable</th>\n      <th>cancellation_policy</th>\n      <th>room_type</th>\n      <th>construction_year</th>\n      <th>price</th>\n      <th>service_fee</th>\n      <th>minimum_nights</th>\n      <th>number_of_reviews</th>\n    </tr>\n  </thead>\n  <tbody>\n    <tr>\n      <th>0</th>\n      <td>Clean &amp; quiet apt home by the park</td>\n      <td>80014485718</td>\n      <td>1</td>\n      <td>Madaline</td>\n      <td>Brooklyn</td>\n      <td>Kensington</td>\n      <td>40.64749</td>\n      <td>-73.97237</td>\n      <td>United States</td>\n      <td>US</td>\n      <td>0</td>\n      <td>strict</td>\n      <td>Private room</td>\n      <td>2020</td>\n      <td>966</td>\n      <td>193</td>\n      <td>10</td>\n      <td>9</td>\n    </tr>\n    <tr>\n      <th>1</th>\n      <td>Skylit Midtown Castle</td>\n      <td>52335172823</td>\n      <td>0</td>\n      <td>Jenna</td>\n      <td>Manhattan</td>\n      <td>Midtown</td>\n      <td>40.75362</td>\n      <td>-73.98377</td>\n      <td>United States</td>\n      <td>US</td>\n      <td>0</td>\n      <td>moderate</td>\n      <td>Entire home/apt</td>\n      <td>2007</td>\n      <td>142</td>\n      <td>28</td>\n      <td>30</td>\n      <td>45</td>\n    </tr>\n    <tr>\n      <th>2</th>\n      <td>Entire Apt: Spacious Studio/Loft by central park</td>\n      <td>92037596077</td>\n      <td>0</td>\n      <td>Lyndon</td>\n      <td>Manhattan</td>\n      <td>East Harlem</td>\n      <td>40.79851</td>\n      <td>-73.94399</td>\n      <td>United States</td>\n      <td>US</td>\n      <td>0</td>\n      <td>moderate</td>\n      <td>Entire home/apt</td>\n      <td>2009</td>\n      <td>204</td>\n      <td>41</td>\n      <td>10</td>\n      <td>9</td>\n    </tr>\n    <tr>\n      <th>3</th>\n      <td>Large Cozy 1 BR Apartment In Midtown East</td>\n      <td>45498551794</td>\n      <td>0</td>\n      <td>Michelle</td>\n      <td>Manhattan</td>\n      <td>Murray Hill</td>\n      <td>40.74767</td>\n      <td>-73.97500</td>\n      <td>United States</td>\n      <td>US</td>\n      <td>1</td>\n      <td>flexible</td>\n      <td>Entire home/apt</td>\n      <td>2013</td>\n      <td>577</td>\n      <td>115</td>\n      <td>3</td>\n      <td>74</td>\n    </tr>\n    <tr>\n      <th>4</th>\n      <td>BlissArtsSpace!</td>\n      <td>90821839709</td>\n      <td>1</td>\n      <td>Emma</td>\n      <td>Brooklyn</td>\n      <td>Bedford-Stuyvesant</td>\n      <td>40.68688</td>\n      <td>-73.95596</td>\n      <td>United States</td>\n      <td>US</td>\n      <td>0</td>\n      <td>moderate</td>\n      <td>Private room</td>\n      <td>2009</td>\n      <td>1060</td>\n      <td>212</td>\n      <td>30</td>\n      <td>49</td>\n    </tr>\n    <tr>\n      <th>...</th>\n      <td>...</td>\n      <td>...</td>\n      <td>...</td>\n      <td>...</td>\n      <td>...</td>\n      <td>...</td>\n      <td>...</td>\n      <td>...</td>\n      <td>...</td>\n      <td>...</td>\n      <td>...</td>\n      <td>...</td>\n      <td>...</td>\n      <td>...</td>\n      <td>...</td>\n      <td>...</td>\n      <td>...</td>\n      <td>...</td>\n    </tr>\n    <tr>\n      <th>99337</th>\n      <td>Cozy room in a 2B with backyard access</td>\n      <td>5155155913</td>\n      <td>1</td>\n      <td>Cristina</td>\n      <td>Queens</td>\n      <td>Astoria</td>\n      <td>40.76987</td>\n      <td>-73.92679</td>\n      <td>United States</td>\n      <td>US</td>\n      <td>0</td>\n      <td>flexible</td>\n      <td>Private room</td>\n      <td>2018</td>\n      <td>822</td>\n      <td>164</td>\n      <td>1</td>\n      <td>9</td>\n    </tr>\n    <tr>\n      <th>99338</th>\n      <td>An East Williamsburg Delight</td>\n      <td>71564706996</td>\n      <td>0</td>\n      <td>Petra</td>\n      <td>Brooklyn</td>\n      <td>Bedford-Stuyvesant</td>\n      <td>40.68335</td>\n      <td>-73.91222</td>\n      <td>United States</td>\n      <td>US</td>\n      <td>1</td>\n      <td>moderate</td>\n      <td>Private room</td>\n      <td>2015</td>\n      <td>455</td>\n      <td>91</td>\n      <td>4</td>\n      <td>36</td>\n    </tr>\n    <tr>\n      <th>99339</th>\n      <td>Cozy bedroom in williamsburg</td>\n      <td>83101851929</td>\n      <td>0</td>\n      <td>Russell</td>\n      <td>Brooklyn</td>\n      <td>Williamsburg</td>\n      <td>40.70870</td>\n      <td>-73.96710</td>\n      <td>United States</td>\n      <td>US</td>\n      <td>1</td>\n      <td>flexible</td>\n      <td>Private room</td>\n      <td>2020</td>\n      <td>1078</td>\n      <td>216</td>\n      <td>1</td>\n      <td>58</td>\n    </tr>\n    <tr>\n      <th>99340</th>\n      <td>Spacious Room w/ 2 Bed</td>\n      <td>69037598918</td>\n      <td>1</td>\n      <td>Christine</td>\n      <td>Queens</td>\n      <td>Bayside</td>\n      <td>40.75047</td>\n      <td>-73.75349</td>\n      <td>United States</td>\n      <td>US</td>\n      <td>0</td>\n      <td>moderate</td>\n      <td>Private room</td>\n      <td>2007</td>\n      <td>103</td>\n      <td>21</td>\n      <td>7</td>\n      <td>40</td>\n    </tr>\n    <tr>\n      <th>99341</th>\n      <td>Room in Queens, NY, near LGA.</td>\n      <td>56457739998</td>\n      <td>0</td>\n      <td>Sonia</td>\n      <td>Queens</td>\n      <td>East Elmhurst</td>\n      <td>40.76245</td>\n      <td>-73.87938</td>\n      <td>United States</td>\n      <td>US</td>\n      <td>1</td>\n      <td>strict</td>\n      <td>Private room</td>\n      <td>2022</td>\n      <td>982</td>\n      <td>196</td>\n      <td>1</td>\n      <td>239</td>\n    </tr>\n  </tbody>\n</table>\n<p>99342 rows × 18 columns</p>\n</div>"
     },
     "execution_count": 148,
     "metadata": {},
     "output_type": "execute_result"
    }
   ],
   "source": [
    "pd.read_csv(\"data/airbnb_cleaned.csv\")"
   ],
   "metadata": {
    "collapsed": false,
    "ExecuteTime": {
     "end_time": "2025-03-28T09:04:28.020544Z",
     "start_time": "2025-03-28T09:04:27.145314Z"
    }
   },
   "id": "5e022893c43d4e17",
   "execution_count": 148
  },
  {
   "cell_type": "code",
   "outputs": [],
   "source": [
    "#data.to_excel(\"Excel_cleaned_data.xlsx\", index = False)"
   ],
   "metadata": {
    "collapsed": false,
    "ExecuteTime": {
     "end_time": "2025-03-28T08:05:19.434794Z",
     "start_time": "2025-03-28T08:05:19.430754Z"
    }
   },
   "id": "b72d4e4990e70223",
   "execution_count": 65
  },
  {
   "cell_type": "code",
   "outputs": [],
   "source": [
    "#pd.read_excel(\"Excel_cleaned_data.xlsx\")"
   ],
   "metadata": {
    "collapsed": false,
    "ExecuteTime": {
     "end_time": "2025-03-28T08:05:19.478175Z",
     "start_time": "2025-03-28T08:05:19.473972Z"
    }
   },
   "id": "f1efd3be673f077e",
   "execution_count": 66
  }
 ],
 "metadata": {
  "kernelspec": {
   "display_name": "Python 3",
   "language": "python",
   "name": "python3"
  },
  "language_info": {
   "codemirror_mode": {
    "name": "ipython",
    "version": 2
   },
   "file_extension": ".py",
   "mimetype": "text/x-python",
   "name": "python",
   "nbconvert_exporter": "python",
   "pygments_lexer": "ipython2",
   "version": "2.7.6"
  }
 },
 "nbformat": 4,
 "nbformat_minor": 5
}
